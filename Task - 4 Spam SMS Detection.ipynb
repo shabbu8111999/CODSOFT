{
 "cells": [
  {
   "cell_type": "markdown",
   "id": "70685b00",
   "metadata": {},
   "source": [
    "# TASK - 4 SPAM SMS DETECTION USING MACHINE LEARNING ALGORITHM (Naive Bayes and SVM Classification) at CODSOFT Internship"
   ]
  },
  {
   "cell_type": "markdown",
   "id": "b33f67de",
   "metadata": {},
   "source": [
    "# IMPORTING NECESSARY LIBRARIES"
   ]
  },
  {
   "cell_type": "code",
   "execution_count": 1,
   "id": "d1dc81a0",
   "metadata": {},
   "outputs": [],
   "source": [
    "import numpy as np\n",
    "import pandas as pd\n",
    "import matplotlib.pyplot as plt\n",
    "import seaborn as sns"
   ]
  },
  {
   "cell_type": "markdown",
   "id": "e4ea2b53",
   "metadata": {},
   "source": [
    "# WE WILL EXPLORE OUR DATASETS"
   ]
  },
  {
   "cell_type": "code",
   "execution_count": 2,
   "id": "aa99ef83",
   "metadata": {},
   "outputs": [],
   "source": [
    "df = pd.read_csv(r\"C:\\Users\\H P\\Desktop\\Internship Task\\spam.csv\", encoding='ISO-8859-1')\n",
    "df.columns = ['Category', 'Messages', 'v3', 'v4', 'v5']"
   ]
  },
  {
   "cell_type": "code",
   "execution_count": 3,
   "id": "80fa5da9",
   "metadata": {},
   "outputs": [],
   "source": [
    "# This was the Additional Column for the demo purpose so i Had removed this from origunal datasets\n",
    "\n",
    "df.drop(['v3', 'v4', 'v5'], axis = 1, inplace = True)"
   ]
  },
  {
   "cell_type": "code",
   "execution_count": 4,
   "id": "55576d15",
   "metadata": {},
   "outputs": [
    {
     "data": {
      "text/html": [
       "<div>\n",
       "<style scoped>\n",
       "    .dataframe tbody tr th:only-of-type {\n",
       "        vertical-align: middle;\n",
       "    }\n",
       "\n",
       "    .dataframe tbody tr th {\n",
       "        vertical-align: top;\n",
       "    }\n",
       "\n",
       "    .dataframe thead th {\n",
       "        text-align: right;\n",
       "    }\n",
       "</style>\n",
       "<table border=\"1\" class=\"dataframe\">\n",
       "  <thead>\n",
       "    <tr style=\"text-align: right;\">\n",
       "      <th></th>\n",
       "      <th>Category</th>\n",
       "      <th>Messages</th>\n",
       "    </tr>\n",
       "  </thead>\n",
       "  <tbody>\n",
       "    <tr>\n",
       "      <th>0</th>\n",
       "      <td>ham</td>\n",
       "      <td>Go until jurong point, crazy.. Available only ...</td>\n",
       "    </tr>\n",
       "    <tr>\n",
       "      <th>1</th>\n",
       "      <td>ham</td>\n",
       "      <td>Ok lar... Joking wif u oni...</td>\n",
       "    </tr>\n",
       "    <tr>\n",
       "      <th>2</th>\n",
       "      <td>spam</td>\n",
       "      <td>Free entry in 2 a wkly comp to win FA Cup fina...</td>\n",
       "    </tr>\n",
       "    <tr>\n",
       "      <th>3</th>\n",
       "      <td>ham</td>\n",
       "      <td>U dun say so early hor... U c already then say...</td>\n",
       "    </tr>\n",
       "    <tr>\n",
       "      <th>4</th>\n",
       "      <td>ham</td>\n",
       "      <td>Nah I don't think he goes to usf, he lives aro...</td>\n",
       "    </tr>\n",
       "  </tbody>\n",
       "</table>\n",
       "</div>"
      ],
      "text/plain": [
       "  Category                                           Messages\n",
       "0      ham  Go until jurong point, crazy.. Available only ...\n",
       "1      ham                      Ok lar... Joking wif u oni...\n",
       "2     spam  Free entry in 2 a wkly comp to win FA Cup fina...\n",
       "3      ham  U dun say so early hor... U c already then say...\n",
       "4      ham  Nah I don't think he goes to usf, he lives aro..."
      ]
     },
     "execution_count": 4,
     "metadata": {},
     "output_type": "execute_result"
    }
   ],
   "source": [
    "df.head()"
   ]
  },
  {
   "cell_type": "code",
   "execution_count": 5,
   "id": "53c4d311",
   "metadata": {},
   "outputs": [
    {
     "data": {
      "text/plain": [
       "(5572, 2)"
      ]
     },
     "execution_count": 5,
     "metadata": {},
     "output_type": "execute_result"
    }
   ],
   "source": [
    "df.shape"
   ]
  },
  {
   "cell_type": "code",
   "execution_count": 6,
   "id": "9b7aba6e",
   "metadata": {},
   "outputs": [
    {
     "data": {
      "text/html": [
       "<div>\n",
       "<style scoped>\n",
       "    .dataframe tbody tr th:only-of-type {\n",
       "        vertical-align: middle;\n",
       "    }\n",
       "\n",
       "    .dataframe tbody tr th {\n",
       "        vertical-align: top;\n",
       "    }\n",
       "\n",
       "    .dataframe thead th {\n",
       "        text-align: right;\n",
       "    }\n",
       "</style>\n",
       "<table border=\"1\" class=\"dataframe\">\n",
       "  <thead>\n",
       "    <tr style=\"text-align: right;\">\n",
       "      <th></th>\n",
       "      <th>Category</th>\n",
       "      <th>Messages</th>\n",
       "    </tr>\n",
       "  </thead>\n",
       "  <tbody>\n",
       "    <tr>\n",
       "      <th>count</th>\n",
       "      <td>5572</td>\n",
       "      <td>5572</td>\n",
       "    </tr>\n",
       "    <tr>\n",
       "      <th>unique</th>\n",
       "      <td>2</td>\n",
       "      <td>5169</td>\n",
       "    </tr>\n",
       "    <tr>\n",
       "      <th>top</th>\n",
       "      <td>ham</td>\n",
       "      <td>Sorry, I'll call later</td>\n",
       "    </tr>\n",
       "    <tr>\n",
       "      <th>freq</th>\n",
       "      <td>4825</td>\n",
       "      <td>30</td>\n",
       "    </tr>\n",
       "  </tbody>\n",
       "</table>\n",
       "</div>"
      ],
      "text/plain": [
       "       Category                Messages\n",
       "count      5572                    5572\n",
       "unique        2                    5169\n",
       "top         ham  Sorry, I'll call later\n",
       "freq       4825                      30"
      ]
     },
     "execution_count": 6,
     "metadata": {},
     "output_type": "execute_result"
    }
   ],
   "source": [
    "df.describe()"
   ]
  },
  {
   "cell_type": "code",
   "execution_count": 7,
   "id": "87fa76f5",
   "metadata": {},
   "outputs": [
    {
     "data": {
      "text/plain": [
       "ham     4825\n",
       "spam     747\n",
       "Name: Category, dtype: int64"
      ]
     },
     "execution_count": 7,
     "metadata": {},
     "output_type": "execute_result"
    }
   ],
   "source": [
    "# Counting on how much Spam and Ham are included\n",
    "\n",
    "df['Category'].value_counts()"
   ]
  },
  {
   "cell_type": "code",
   "execution_count": 8,
   "id": "6cd4db22",
   "metadata": {},
   "outputs": [
    {
     "data": {
      "text/plain": [
       "Category    0\n",
       "Messages    0\n",
       "dtype: int64"
      ]
     },
     "execution_count": 8,
     "metadata": {},
     "output_type": "execute_result"
    }
   ],
   "source": [
    "df.isnull().sum()"
   ]
  },
  {
   "cell_type": "code",
   "execution_count": 9,
   "id": "073a4a56",
   "metadata": {},
   "outputs": [],
   "source": [
    "# Let's merge one column in this dataframe which will specify our ham and spam category\n",
    "\n",
    "df['Category Count'] = df.Category.map({ 'ham' : 0, 'spam' : 1 })"
   ]
  },
  {
   "cell_type": "code",
   "execution_count": 10,
   "id": "aa847998",
   "metadata": {},
   "outputs": [
    {
     "data": {
      "text/html": [
       "<div>\n",
       "<style scoped>\n",
       "    .dataframe tbody tr th:only-of-type {\n",
       "        vertical-align: middle;\n",
       "    }\n",
       "\n",
       "    .dataframe tbody tr th {\n",
       "        vertical-align: top;\n",
       "    }\n",
       "\n",
       "    .dataframe thead th {\n",
       "        text-align: right;\n",
       "    }\n",
       "</style>\n",
       "<table border=\"1\" class=\"dataframe\">\n",
       "  <thead>\n",
       "    <tr style=\"text-align: right;\">\n",
       "      <th></th>\n",
       "      <th>Category</th>\n",
       "      <th>Messages</th>\n",
       "      <th>Category Count</th>\n",
       "    </tr>\n",
       "  </thead>\n",
       "  <tbody>\n",
       "    <tr>\n",
       "      <th>0</th>\n",
       "      <td>ham</td>\n",
       "      <td>Go until jurong point, crazy.. Available only ...</td>\n",
       "      <td>0</td>\n",
       "    </tr>\n",
       "    <tr>\n",
       "      <th>1</th>\n",
       "      <td>ham</td>\n",
       "      <td>Ok lar... Joking wif u oni...</td>\n",
       "      <td>0</td>\n",
       "    </tr>\n",
       "    <tr>\n",
       "      <th>2</th>\n",
       "      <td>spam</td>\n",
       "      <td>Free entry in 2 a wkly comp to win FA Cup fina...</td>\n",
       "      <td>1</td>\n",
       "    </tr>\n",
       "    <tr>\n",
       "      <th>3</th>\n",
       "      <td>ham</td>\n",
       "      <td>U dun say so early hor... U c already then say...</td>\n",
       "      <td>0</td>\n",
       "    </tr>\n",
       "    <tr>\n",
       "      <th>4</th>\n",
       "      <td>ham</td>\n",
       "      <td>Nah I don't think he goes to usf, he lives aro...</td>\n",
       "      <td>0</td>\n",
       "    </tr>\n",
       "    <tr>\n",
       "      <th>5</th>\n",
       "      <td>spam</td>\n",
       "      <td>FreeMsg Hey there darling it's been 3 week's n...</td>\n",
       "      <td>1</td>\n",
       "    </tr>\n",
       "    <tr>\n",
       "      <th>6</th>\n",
       "      <td>ham</td>\n",
       "      <td>Even my brother is not like to speak with me. ...</td>\n",
       "      <td>0</td>\n",
       "    </tr>\n",
       "    <tr>\n",
       "      <th>7</th>\n",
       "      <td>ham</td>\n",
       "      <td>As per your request 'Melle Melle (Oru Minnamin...</td>\n",
       "      <td>0</td>\n",
       "    </tr>\n",
       "    <tr>\n",
       "      <th>8</th>\n",
       "      <td>spam</td>\n",
       "      <td>WINNER!! As a valued network customer you have...</td>\n",
       "      <td>1</td>\n",
       "    </tr>\n",
       "    <tr>\n",
       "      <th>9</th>\n",
       "      <td>spam</td>\n",
       "      <td>Had your mobile 11 months or more? U R entitle...</td>\n",
       "      <td>1</td>\n",
       "    </tr>\n",
       "  </tbody>\n",
       "</table>\n",
       "</div>"
      ],
      "text/plain": [
       "  Category                                           Messages  Category Count\n",
       "0      ham  Go until jurong point, crazy.. Available only ...               0\n",
       "1      ham                      Ok lar... Joking wif u oni...               0\n",
       "2     spam  Free entry in 2 a wkly comp to win FA Cup fina...               1\n",
       "3      ham  U dun say so early hor... U c already then say...               0\n",
       "4      ham  Nah I don't think he goes to usf, he lives aro...               0\n",
       "5     spam  FreeMsg Hey there darling it's been 3 week's n...               1\n",
       "6      ham  Even my brother is not like to speak with me. ...               0\n",
       "7      ham  As per your request 'Melle Melle (Oru Minnamin...               0\n",
       "8     spam  WINNER!! As a valued network customer you have...               1\n",
       "9     spam  Had your mobile 11 months or more? U R entitle...               1"
      ]
     },
     "execution_count": 10,
     "metadata": {},
     "output_type": "execute_result"
    }
   ],
   "source": [
    "df.head(10)"
   ]
  },
  {
   "cell_type": "code",
   "execution_count": 11,
   "id": "731785ac",
   "metadata": {},
   "outputs": [],
   "source": [
    "# So now we have merge the count of category, we'll delete the first column\n",
    "\n",
    "df.drop(['Category'], axis = 1, inplace = True)"
   ]
  },
  {
   "cell_type": "code",
   "execution_count": 12,
   "id": "2e6c1120",
   "metadata": {},
   "outputs": [
    {
     "data": {
      "text/html": [
       "<div>\n",
       "<style scoped>\n",
       "    .dataframe tbody tr th:only-of-type {\n",
       "        vertical-align: middle;\n",
       "    }\n",
       "\n",
       "    .dataframe tbody tr th {\n",
       "        vertical-align: top;\n",
       "    }\n",
       "\n",
       "    .dataframe thead th {\n",
       "        text-align: right;\n",
       "    }\n",
       "</style>\n",
       "<table border=\"1\" class=\"dataframe\">\n",
       "  <thead>\n",
       "    <tr style=\"text-align: right;\">\n",
       "      <th></th>\n",
       "      <th>Messages</th>\n",
       "      <th>Category Count</th>\n",
       "    </tr>\n",
       "  </thead>\n",
       "  <tbody>\n",
       "    <tr>\n",
       "      <th>0</th>\n",
       "      <td>Go until jurong point, crazy.. Available only ...</td>\n",
       "      <td>0</td>\n",
       "    </tr>\n",
       "    <tr>\n",
       "      <th>1</th>\n",
       "      <td>Ok lar... Joking wif u oni...</td>\n",
       "      <td>0</td>\n",
       "    </tr>\n",
       "    <tr>\n",
       "      <th>2</th>\n",
       "      <td>Free entry in 2 a wkly comp to win FA Cup fina...</td>\n",
       "      <td>1</td>\n",
       "    </tr>\n",
       "    <tr>\n",
       "      <th>3</th>\n",
       "      <td>U dun say so early hor... U c already then say...</td>\n",
       "      <td>0</td>\n",
       "    </tr>\n",
       "    <tr>\n",
       "      <th>4</th>\n",
       "      <td>Nah I don't think he goes to usf, he lives aro...</td>\n",
       "      <td>0</td>\n",
       "    </tr>\n",
       "  </tbody>\n",
       "</table>\n",
       "</div>"
      ],
      "text/plain": [
       "                                            Messages  Category Count\n",
       "0  Go until jurong point, crazy.. Available only ...               0\n",
       "1                      Ok lar... Joking wif u oni...               0\n",
       "2  Free entry in 2 a wkly comp to win FA Cup fina...               1\n",
       "3  U dun say so early hor... U c already then say...               0\n",
       "4  Nah I don't think he goes to usf, he lives aro...               0"
      ]
     },
     "execution_count": 12,
     "metadata": {},
     "output_type": "execute_result"
    }
   ],
   "source": [
    "df.head()"
   ]
  },
  {
   "cell_type": "markdown",
   "id": "c059115a",
   "metadata": {},
   "source": [
    "# PREPROCESSING OUR DATASET USING AI MODEL"
   ]
  },
  {
   "cell_type": "code",
   "execution_count": 13,
   "id": "301c080a",
   "metadata": {},
   "outputs": [],
   "source": [
    "import re\n",
    "from nltk.corpus import stopwords\n",
    "from nltk.stem import PorterStemmer"
   ]
  },
  {
   "cell_type": "code",
   "execution_count": 14,
   "id": "e8d595f2",
   "metadata": {},
   "outputs": [],
   "source": [
    "# Clean and preprocess the text data by removing punctuation, stop words, and other noise.\n",
    "\n",
    "def preprocess_text(text):\n",
    "    text = re.sub(r'\\W', ' ', text)  # Removes non-word characters\n",
    "    text = re.sub(r'\\s+[a-zA-Z]\\s+', ' ', text)  # Removes single characters\n",
    "    text = re.sub(r'\\s+', ' ', text, flags=re.I)  # Replace the multiple spaces with single space\n",
    "    text = text.lower() \n",
    "    text = text.split()\n",
    "    \n",
    "    \n",
    "    ps = PorterStemmer()\n",
    "    text = [ps.stem(word) for word in text if word not in set(stopwords.words('english'))]\n",
    "    return ' '.join(text)"
   ]
  },
  {
   "cell_type": "code",
   "execution_count": 15,
   "id": "7d4e59dd",
   "metadata": {},
   "outputs": [],
   "source": [
    "df['Messages'] = df['Messages'].apply(preprocess_text)"
   ]
  },
  {
   "cell_type": "markdown",
   "id": "0ff8835b",
   "metadata": {},
   "source": [
    "# FEATURE EXTRACTION"
   ]
  },
  {
   "cell_type": "code",
   "execution_count": 16,
   "id": "38bba2b9",
   "metadata": {},
   "outputs": [],
   "source": [
    "from sklearn.feature_extraction.text import TfidfVectorizer\n",
    "\n",
    "tfidf = TfidfVectorizer(max_features=5000)\n",
    "X = tfidf.fit_transform(df['Messages'])\n",
    "y = df['Category Count']"
   ]
  },
  {
   "cell_type": "code",
   "execution_count": 17,
   "id": "e2f61cad",
   "metadata": {},
   "outputs": [
    {
     "name": "stdout",
     "output_type": "stream",
     "text": [
      "  (0, 4656)\t0.22331588422622858\n",
      "  (0, 1735)\t0.1897178948471492\n",
      "  (0, 1072)\t0.34152420933902794\n",
      "  (0, 876)\t0.38591407945809597\n",
      "  (0, 2095)\t0.34152420933902794\n",
      "  (0, 4831)\t0.2710064948546452\n",
      "  (0, 1751)\t0.22331588422622858\n",
      "  (0, 878)\t0.34152420933902794\n",
      "  (0, 580)\t0.30237659645385423\n",
      "  (0, 1186)\t0.31307495921542144\n",
      "  (0, 2786)\t0.2760402879244311\n",
      "  (0, 1714)\t0.16226774688701645\n",
      "  (1, 2551)\t0.5647537939557097\n",
      "  (1, 4754)\t0.4459451111953121\n",
      "  (1, 2032)\t0.47451057922863127\n",
      "  (1, 2107)\t0.4218684931830353\n",
      "  (1, 2542)\t0.2811632882742994\n",
      "  (2, 41)\t0.23671233334742495\n",
      "  (2, 526)\t0.16851314957353225\n",
      "  (2, 3047)\t0.16279867989786997\n",
      "  (2, 4381)\t0.12383502294019352\n",
      "  (2, 3810)\t0.19822868974819793\n",
      "  (2, 3002)\t0.16623021331440094\n",
      "  (2, 3085)\t0.16279867989786997\n",
      "  (2, 351)\t0.22253177271203253\n",
      "  :\t:\n",
      "  (5567, 3047)\t0.2599516331025906\n",
      "  (5568, 1462)\t0.6134635634925883\n",
      "  (5568, 1621)\t0.5293895218987117\n",
      "  (5568, 4987)\t0.3857537525829914\n",
      "  (5568, 1854)\t0.345422210787593\n",
      "  (5568, 1714)\t0.27438427256965814\n",
      "  (5569, 2728)\t0.6374814122151056\n",
      "  (5569, 2387)\t0.5301411472422174\n",
      "  (5569, 3919)\t0.5590776449483026\n",
      "  (5570, 703)\t0.3543446675871416\n",
      "  (5570, 409)\t0.3698694826176061\n",
      "  (5570, 1967)\t0.31620175253651533\n",
      "  (5570, 1768)\t0.25370307188297875\n",
      "  (5570, 1676)\t0.3334900927399098\n",
      "  (5570, 1427)\t0.29561008414698337\n",
      "  (5570, 904)\t0.2474490085088774\n",
      "  (5570, 3666)\t0.24876738272734208\n",
      "  (5570, 4494)\t0.2529648167974412\n",
      "  (5570, 2477)\t0.25445333164101513\n",
      "  (5570, 2155)\t0.1910605782553854\n",
      "  (5570, 4690)\t0.22135068567636063\n",
      "  (5570, 1625)\t0.1932161275136411\n",
      "  (5571, 3225)\t0.6948669752572904\n",
      "  (5571, 4341)\t0.5338262535951728\n",
      "  (5571, 2439)\t0.48186037154898564\n"
     ]
    }
   ],
   "source": [
    "print(X)"
   ]
  },
  {
   "cell_type": "code",
   "execution_count": 18,
   "id": "f4a78aae",
   "metadata": {},
   "outputs": [
    {
     "name": "stdout",
     "output_type": "stream",
     "text": [
      "0       0\n",
      "1       0\n",
      "2       1\n",
      "3       0\n",
      "4       0\n",
      "       ..\n",
      "5567    1\n",
      "5568    0\n",
      "5569    0\n",
      "5570    0\n",
      "5571    0\n",
      "Name: Category Count, Length: 5572, dtype: int64\n"
     ]
    }
   ],
   "source": [
    "print(y)"
   ]
  },
  {
   "cell_type": "markdown",
   "id": "bef8f016",
   "metadata": {},
   "source": [
    "# SPLITTING THE DATASETS INTO TRAINING AND TESTING SETS"
   ]
  },
  {
   "cell_type": "code",
   "execution_count": 19,
   "id": "a7bdaa25",
   "metadata": {},
   "outputs": [
    {
     "name": "stdout",
     "output_type": "stream",
     "text": [
      "Model has been Split up into Training and Testing sets\n"
     ]
    }
   ],
   "source": [
    "from sklearn.model_selection import train_test_split\n",
    "X_train, X_test, y_train, y_test = train_test_split(X, y, test_size = 0.2, random_state = 20)\n",
    "print('Model has been Split up into Training and Testing sets')"
   ]
  },
  {
   "cell_type": "code",
   "execution_count": 20,
   "id": "378e6ba8",
   "metadata": {},
   "outputs": [
    {
     "data": {
      "text/plain": [
       "4457"
      ]
     },
     "execution_count": 20,
     "metadata": {},
     "output_type": "execute_result"
    }
   ],
   "source": [
    "X_train.shape[0]"
   ]
  },
  {
   "cell_type": "code",
   "execution_count": 21,
   "id": "455a044d",
   "metadata": {},
   "outputs": [
    {
     "data": {
      "text/plain": [
       "1115"
      ]
     },
     "execution_count": 21,
     "metadata": {},
     "output_type": "execute_result"
    }
   ],
   "source": [
    "X_test.shape[0]"
   ]
  },
  {
   "cell_type": "markdown",
   "id": "cb37654f",
   "metadata": {},
   "source": [
    "# LET'S TRAIN OUR TRAINING MODEL USING NAIVE BAYES ALGORITHM AND SEE WHICH MODEL SELECTION IS BEST"
   ]
  },
  {
   "cell_type": "code",
   "execution_count": 22,
   "id": "a42793e4",
   "metadata": {},
   "outputs": [
    {
     "name": "stdout",
     "output_type": "stream",
     "text": [
      "The Model Has been trained successfuly\n"
     ]
    }
   ],
   "source": [
    "from sklearn.naive_bayes import MultinomialNB\n",
    "naive = MultinomialNB()\n",
    "naive.fit(X_train, y_train)\n",
    "print('The Model Has been trained successfuly')"
   ]
  },
  {
   "cell_type": "markdown",
   "id": "766431b1",
   "metadata": {},
   "source": [
    "# LET'S PREDICT OUR MODEL WHETHER OUR MODEL IS PREDICTING CORRECT OR NOT"
   ]
  },
  {
   "cell_type": "code",
   "execution_count": 23,
   "id": "23f78751",
   "metadata": {},
   "outputs": [],
   "source": [
    "new_prediction = [\"Oh k...i'm watching here:)\"]\n",
    "new_X = tfidf.transform(new_prediction)\n",
    "predicted_category = naive.predict(new_X)"
   ]
  },
  {
   "cell_type": "code",
   "execution_count": 24,
   "id": "55e1bea1",
   "metadata": {},
   "outputs": [
    {
     "name": "stdout",
     "output_type": "stream",
     "text": [
      "[0]\n"
     ]
    }
   ],
   "source": [
    "print(predicted_category)"
   ]
  },
  {
   "cell_type": "markdown",
   "id": "3bf688b7",
   "metadata": {},
   "source": [
    "The model has predicted correct as you can see 'HAM' - 0 & 'SPAM' - 1"
   ]
  },
  {
   "cell_type": "markdown",
   "id": "06df1cf4",
   "metadata": {},
   "source": [
    "# LET'S MERGE OUR ACTUAL TEST SET AND PREDICTED TEST SET RESULTS TOGETHER"
   ]
  },
  {
   "cell_type": "code",
   "execution_count": 25,
   "id": "a73d635c",
   "metadata": {},
   "outputs": [],
   "source": [
    "y_pred_naive = naive.predict(X_test)\n",
    "\n",
    "Results = pd.DataFrame({\n",
    "    'Actual_Result' : y_test,\n",
    "    'Predicted_Result' : y_pred_naive\n",
    "})"
   ]
  },
  {
   "cell_type": "code",
   "execution_count": 26,
   "id": "55853fc1",
   "metadata": {},
   "outputs": [
    {
     "data": {
      "text/html": [
       "<div>\n",
       "<style scoped>\n",
       "    .dataframe tbody tr th:only-of-type {\n",
       "        vertical-align: middle;\n",
       "    }\n",
       "\n",
       "    .dataframe tbody tr th {\n",
       "        vertical-align: top;\n",
       "    }\n",
       "\n",
       "    .dataframe thead th {\n",
       "        text-align: right;\n",
       "    }\n",
       "</style>\n",
       "<table border=\"1\" class=\"dataframe\">\n",
       "  <thead>\n",
       "    <tr style=\"text-align: right;\">\n",
       "      <th></th>\n",
       "      <th>Actual_Result</th>\n",
       "      <th>Predicted_Result</th>\n",
       "    </tr>\n",
       "  </thead>\n",
       "  <tbody>\n",
       "    <tr>\n",
       "      <th>4732</th>\n",
       "      <td>0</td>\n",
       "      <td>0</td>\n",
       "    </tr>\n",
       "    <tr>\n",
       "      <th>4952</th>\n",
       "      <td>0</td>\n",
       "      <td>0</td>\n",
       "    </tr>\n",
       "    <tr>\n",
       "      <th>3724</th>\n",
       "      <td>0</td>\n",
       "      <td>0</td>\n",
       "    </tr>\n",
       "    <tr>\n",
       "      <th>5261</th>\n",
       "      <td>0</td>\n",
       "      <td>0</td>\n",
       "    </tr>\n",
       "    <tr>\n",
       "      <th>1274</th>\n",
       "      <td>0</td>\n",
       "      <td>0</td>\n",
       "    </tr>\n",
       "    <tr>\n",
       "      <th>3390</th>\n",
       "      <td>0</td>\n",
       "      <td>0</td>\n",
       "    </tr>\n",
       "    <tr>\n",
       "      <th>888</th>\n",
       "      <td>0</td>\n",
       "      <td>0</td>\n",
       "    </tr>\n",
       "    <tr>\n",
       "      <th>5450</th>\n",
       "      <td>0</td>\n",
       "      <td>0</td>\n",
       "    </tr>\n",
       "    <tr>\n",
       "      <th>2478</th>\n",
       "      <td>0</td>\n",
       "      <td>0</td>\n",
       "    </tr>\n",
       "    <tr>\n",
       "      <th>4764</th>\n",
       "      <td>0</td>\n",
       "      <td>0</td>\n",
       "    </tr>\n",
       "    <tr>\n",
       "      <th>1372</th>\n",
       "      <td>0</td>\n",
       "      <td>0</td>\n",
       "    </tr>\n",
       "    <tr>\n",
       "      <th>943</th>\n",
       "      <td>0</td>\n",
       "      <td>0</td>\n",
       "    </tr>\n",
       "    <tr>\n",
       "      <th>1640</th>\n",
       "      <td>0</td>\n",
       "      <td>0</td>\n",
       "    </tr>\n",
       "    <tr>\n",
       "      <th>678</th>\n",
       "      <td>0</td>\n",
       "      <td>0</td>\n",
       "    </tr>\n",
       "    <tr>\n",
       "      <th>4864</th>\n",
       "      <td>0</td>\n",
       "      <td>0</td>\n",
       "    </tr>\n",
       "    <tr>\n",
       "      <th>1407</th>\n",
       "      <td>0</td>\n",
       "      <td>0</td>\n",
       "    </tr>\n",
       "    <tr>\n",
       "      <th>309</th>\n",
       "      <td>0</td>\n",
       "      <td>0</td>\n",
       "    </tr>\n",
       "    <tr>\n",
       "      <th>759</th>\n",
       "      <td>0</td>\n",
       "      <td>0</td>\n",
       "    </tr>\n",
       "    <tr>\n",
       "      <th>269</th>\n",
       "      <td>1</td>\n",
       "      <td>1</td>\n",
       "    </tr>\n",
       "    <tr>\n",
       "      <th>982</th>\n",
       "      <td>1</td>\n",
       "      <td>1</td>\n",
       "    </tr>\n",
       "    <tr>\n",
       "      <th>989</th>\n",
       "      <td>0</td>\n",
       "      <td>0</td>\n",
       "    </tr>\n",
       "    <tr>\n",
       "      <th>3037</th>\n",
       "      <td>0</td>\n",
       "      <td>0</td>\n",
       "    </tr>\n",
       "    <tr>\n",
       "      <th>4929</th>\n",
       "      <td>1</td>\n",
       "      <td>0</td>\n",
       "    </tr>\n",
       "    <tr>\n",
       "      <th>5466</th>\n",
       "      <td>1</td>\n",
       "      <td>1</td>\n",
       "    </tr>\n",
       "    <tr>\n",
       "      <th>3372</th>\n",
       "      <td>0</td>\n",
       "      <td>0</td>\n",
       "    </tr>\n",
       "    <tr>\n",
       "      <th>1346</th>\n",
       "      <td>0</td>\n",
       "      <td>0</td>\n",
       "    </tr>\n",
       "    <tr>\n",
       "      <th>5510</th>\n",
       "      <td>0</td>\n",
       "      <td>0</td>\n",
       "    </tr>\n",
       "    <tr>\n",
       "      <th>1745</th>\n",
       "      <td>0</td>\n",
       "      <td>0</td>\n",
       "    </tr>\n",
       "    <tr>\n",
       "      <th>4726</th>\n",
       "      <td>1</td>\n",
       "      <td>1</td>\n",
       "    </tr>\n",
       "    <tr>\n",
       "      <th>918</th>\n",
       "      <td>0</td>\n",
       "      <td>0</td>\n",
       "    </tr>\n",
       "    <tr>\n",
       "      <th>5028</th>\n",
       "      <td>1</td>\n",
       "      <td>1</td>\n",
       "    </tr>\n",
       "    <tr>\n",
       "      <th>1498</th>\n",
       "      <td>0</td>\n",
       "      <td>0</td>\n",
       "    </tr>\n",
       "    <tr>\n",
       "      <th>3491</th>\n",
       "      <td>0</td>\n",
       "      <td>0</td>\n",
       "    </tr>\n",
       "    <tr>\n",
       "      <th>4862</th>\n",
       "      <td>1</td>\n",
       "      <td>1</td>\n",
       "    </tr>\n",
       "    <tr>\n",
       "      <th>113</th>\n",
       "      <td>1</td>\n",
       "      <td>1</td>\n",
       "    </tr>\n",
       "    <tr>\n",
       "      <th>1564</th>\n",
       "      <td>0</td>\n",
       "      <td>0</td>\n",
       "    </tr>\n",
       "    <tr>\n",
       "      <th>2910</th>\n",
       "      <td>0</td>\n",
       "      <td>0</td>\n",
       "    </tr>\n",
       "    <tr>\n",
       "      <th>4684</th>\n",
       "      <td>0</td>\n",
       "      <td>0</td>\n",
       "    </tr>\n",
       "    <tr>\n",
       "      <th>1554</th>\n",
       "      <td>0</td>\n",
       "      <td>0</td>\n",
       "    </tr>\n",
       "    <tr>\n",
       "      <th>5516</th>\n",
       "      <td>0</td>\n",
       "      <td>0</td>\n",
       "    </tr>\n",
       "  </tbody>\n",
       "</table>\n",
       "</div>"
      ],
      "text/plain": [
       "      Actual_Result  Predicted_Result\n",
       "4732              0                 0\n",
       "4952              0                 0\n",
       "3724              0                 0\n",
       "5261              0                 0\n",
       "1274              0                 0\n",
       "3390              0                 0\n",
       "888               0                 0\n",
       "5450              0                 0\n",
       "2478              0                 0\n",
       "4764              0                 0\n",
       "1372              0                 0\n",
       "943               0                 0\n",
       "1640              0                 0\n",
       "678               0                 0\n",
       "4864              0                 0\n",
       "1407              0                 0\n",
       "309               0                 0\n",
       "759               0                 0\n",
       "269               1                 1\n",
       "982               1                 1\n",
       "989               0                 0\n",
       "3037              0                 0\n",
       "4929              1                 0\n",
       "5466              1                 1\n",
       "3372              0                 0\n",
       "1346              0                 0\n",
       "5510              0                 0\n",
       "1745              0                 0\n",
       "4726              1                 1\n",
       "918               0                 0\n",
       "5028              1                 1\n",
       "1498              0                 0\n",
       "3491              0                 0\n",
       "4862              1                 1\n",
       "113               1                 1\n",
       "1564              0                 0\n",
       "2910              0                 0\n",
       "4684              0                 0\n",
       "1554              0                 0\n",
       "5516              0                 0"
      ]
     },
     "execution_count": 26,
     "metadata": {},
     "output_type": "execute_result"
    }
   ],
   "source": [
    "Results.head(40)"
   ]
  },
  {
   "cell_type": "markdown",
   "id": "0629f9c7",
   "metadata": {},
   "source": [
    "# FINDING THE ACCURACY SCORE, CONFUSION MATRIX AND CLASSIFICATION REPORT OF THE MODEL USED BY NAIVE BAYES"
   ]
  },
  {
   "cell_type": "code",
   "execution_count": 28,
   "id": "84975647",
   "metadata": {},
   "outputs": [
    {
     "name": "stdout",
     "output_type": "stream",
     "text": [
      "Confusion Matrix of Naive Bayes Model is\n",
      " [[967   0]\n",
      " [ 26 122]]\n",
      "\n",
      "The Accuracy Score Performed by the Model 0.9766816143497757\n"
     ]
    }
   ],
   "source": [
    "from sklearn.metrics import confusion_matrix, accuracy_score, classification_report\n",
    "\n",
    "cm_naive = confusion_matrix(y_test, y_pred_naive)\n",
    "print('Confusion Matrix of Naive Bayes Model is\\n', cm_naive)\n",
    "print()\n",
    "ac_naive = accuracy_score(y_test, y_pred_naive)\n",
    "print('The Accuracy Score Performed by the Model', ac_naive)"
   ]
  },
  {
   "cell_type": "markdown",
   "id": "19a02b0b",
   "metadata": {},
   "source": [
    "As you can see over the confusion matrix, the False Positive recorded 0 value that means our Naive Bayes(MultinomialNB) have performed pretty well and Accuracy Score of 97%."
   ]
  },
  {
   "cell_type": "code",
   "execution_count": 29,
   "id": "98e2d4f7",
   "metadata": {},
   "outputs": [
    {
     "name": "stdout",
     "output_type": "stream",
     "text": [
      "              precision    recall  f1-score   support\n",
      "\n",
      "           0       0.97      1.00      0.99       967\n",
      "           1       1.00      0.82      0.90       148\n",
      "\n",
      "    accuracy                           0.98      1115\n",
      "   macro avg       0.99      0.91      0.95      1115\n",
      "weighted avg       0.98      0.98      0.98      1115\n",
      "\n"
     ]
    }
   ],
   "source": [
    "NB_clf_report = classification_report(y_test, y_pred_naive)\n",
    "print(NB_clf_report)"
   ]
  },
  {
   "cell_type": "markdown",
   "id": "8f28af88",
   "metadata": {},
   "source": [
    "Except the Recall(SPAM - 1) almost the values are ranging between 90%."
   ]
  },
  {
   "cell_type": "markdown",
   "id": "fdc33165",
   "metadata": {},
   "source": [
    "# LET'S USE SUPPORT VECTOR MACHINE ALGORITHM AND SEE WHAT IS THE PREDICTION ACCURACY"
   ]
  },
  {
   "cell_type": "code",
   "execution_count": 30,
   "id": "67877b83",
   "metadata": {},
   "outputs": [
    {
     "name": "stdout",
     "output_type": "stream",
     "text": [
      "Model has been Split up into Training and Testing sets\n"
     ]
    }
   ],
   "source": [
    "X_train_svm, X_test_svm, y_train_svm, y_test_svm = train_test_split(X, y, test_size = 0.2, random_state = 20)\n",
    "print('Model has been Split up into Training and Testing sets')"
   ]
  },
  {
   "cell_type": "code",
   "execution_count": 31,
   "id": "5f85a760",
   "metadata": {},
   "outputs": [
    {
     "data": {
      "text/plain": [
       "SVC()"
      ]
     },
     "execution_count": 31,
     "metadata": {},
     "output_type": "execute_result"
    }
   ],
   "source": [
    "from sklearn.svm import SVC\n",
    "svm = SVC()\n",
    "svm.fit(X_train_svm, y_train_svm)"
   ]
  },
  {
   "cell_type": "code",
   "execution_count": 32,
   "id": "70f3a7a4",
   "metadata": {},
   "outputs": [],
   "source": [
    "svm_prediction = [\"Oh k...i'm watching here:)\"]\n",
    "svm_X = tfidf.transform(svm_prediction)\n",
    "predicted_category_svm = naive.predict(svm_X)"
   ]
  },
  {
   "cell_type": "code",
   "execution_count": 33,
   "id": "3270aca2",
   "metadata": {},
   "outputs": [
    {
     "name": "stdout",
     "output_type": "stream",
     "text": [
      "[0]\n"
     ]
    }
   ],
   "source": [
    "print(predicted_category_svm)"
   ]
  },
  {
   "cell_type": "code",
   "execution_count": 34,
   "id": "20af47fc",
   "metadata": {},
   "outputs": [],
   "source": [
    "y_pred_svm = svm.predict(X_test_svm)\n",
    "\n",
    "Result_svm = pd.DataFrame({\n",
    "    'Actual_SVM_Result' : y_test_svm,\n",
    "    'Predicted_SVM_Result' : y_pred_svm\n",
    "})"
   ]
  },
  {
   "cell_type": "code",
   "execution_count": 35,
   "id": "f45c119a",
   "metadata": {},
   "outputs": [
    {
     "data": {
      "text/html": [
       "<div>\n",
       "<style scoped>\n",
       "    .dataframe tbody tr th:only-of-type {\n",
       "        vertical-align: middle;\n",
       "    }\n",
       "\n",
       "    .dataframe tbody tr th {\n",
       "        vertical-align: top;\n",
       "    }\n",
       "\n",
       "    .dataframe thead th {\n",
       "        text-align: right;\n",
       "    }\n",
       "</style>\n",
       "<table border=\"1\" class=\"dataframe\">\n",
       "  <thead>\n",
       "    <tr style=\"text-align: right;\">\n",
       "      <th></th>\n",
       "      <th>Actual_SVM_Result</th>\n",
       "      <th>Predicted_SVM_Result</th>\n",
       "    </tr>\n",
       "  </thead>\n",
       "  <tbody>\n",
       "    <tr>\n",
       "      <th>4732</th>\n",
       "      <td>0</td>\n",
       "      <td>0</td>\n",
       "    </tr>\n",
       "    <tr>\n",
       "      <th>4952</th>\n",
       "      <td>0</td>\n",
       "      <td>0</td>\n",
       "    </tr>\n",
       "    <tr>\n",
       "      <th>3724</th>\n",
       "      <td>0</td>\n",
       "      <td>0</td>\n",
       "    </tr>\n",
       "    <tr>\n",
       "      <th>5261</th>\n",
       "      <td>0</td>\n",
       "      <td>0</td>\n",
       "    </tr>\n",
       "    <tr>\n",
       "      <th>1274</th>\n",
       "      <td>0</td>\n",
       "      <td>0</td>\n",
       "    </tr>\n",
       "    <tr>\n",
       "      <th>3390</th>\n",
       "      <td>0</td>\n",
       "      <td>0</td>\n",
       "    </tr>\n",
       "    <tr>\n",
       "      <th>888</th>\n",
       "      <td>0</td>\n",
       "      <td>0</td>\n",
       "    </tr>\n",
       "    <tr>\n",
       "      <th>5450</th>\n",
       "      <td>0</td>\n",
       "      <td>0</td>\n",
       "    </tr>\n",
       "    <tr>\n",
       "      <th>2478</th>\n",
       "      <td>0</td>\n",
       "      <td>0</td>\n",
       "    </tr>\n",
       "    <tr>\n",
       "      <th>4764</th>\n",
       "      <td>0</td>\n",
       "      <td>0</td>\n",
       "    </tr>\n",
       "    <tr>\n",
       "      <th>1372</th>\n",
       "      <td>0</td>\n",
       "      <td>0</td>\n",
       "    </tr>\n",
       "    <tr>\n",
       "      <th>943</th>\n",
       "      <td>0</td>\n",
       "      <td>0</td>\n",
       "    </tr>\n",
       "    <tr>\n",
       "      <th>1640</th>\n",
       "      <td>0</td>\n",
       "      <td>0</td>\n",
       "    </tr>\n",
       "    <tr>\n",
       "      <th>678</th>\n",
       "      <td>0</td>\n",
       "      <td>0</td>\n",
       "    </tr>\n",
       "    <tr>\n",
       "      <th>4864</th>\n",
       "      <td>0</td>\n",
       "      <td>0</td>\n",
       "    </tr>\n",
       "    <tr>\n",
       "      <th>1407</th>\n",
       "      <td>0</td>\n",
       "      <td>0</td>\n",
       "    </tr>\n",
       "    <tr>\n",
       "      <th>309</th>\n",
       "      <td>0</td>\n",
       "      <td>0</td>\n",
       "    </tr>\n",
       "    <tr>\n",
       "      <th>759</th>\n",
       "      <td>0</td>\n",
       "      <td>0</td>\n",
       "    </tr>\n",
       "    <tr>\n",
       "      <th>269</th>\n",
       "      <td>1</td>\n",
       "      <td>1</td>\n",
       "    </tr>\n",
       "    <tr>\n",
       "      <th>982</th>\n",
       "      <td>1</td>\n",
       "      <td>1</td>\n",
       "    </tr>\n",
       "    <tr>\n",
       "      <th>989</th>\n",
       "      <td>0</td>\n",
       "      <td>0</td>\n",
       "    </tr>\n",
       "    <tr>\n",
       "      <th>3037</th>\n",
       "      <td>0</td>\n",
       "      <td>0</td>\n",
       "    </tr>\n",
       "    <tr>\n",
       "      <th>4929</th>\n",
       "      <td>1</td>\n",
       "      <td>1</td>\n",
       "    </tr>\n",
       "    <tr>\n",
       "      <th>5466</th>\n",
       "      <td>1</td>\n",
       "      <td>0</td>\n",
       "    </tr>\n",
       "    <tr>\n",
       "      <th>3372</th>\n",
       "      <td>0</td>\n",
       "      <td>0</td>\n",
       "    </tr>\n",
       "    <tr>\n",
       "      <th>1346</th>\n",
       "      <td>0</td>\n",
       "      <td>0</td>\n",
       "    </tr>\n",
       "    <tr>\n",
       "      <th>5510</th>\n",
       "      <td>0</td>\n",
       "      <td>0</td>\n",
       "    </tr>\n",
       "    <tr>\n",
       "      <th>1745</th>\n",
       "      <td>0</td>\n",
       "      <td>0</td>\n",
       "    </tr>\n",
       "    <tr>\n",
       "      <th>4726</th>\n",
       "      <td>1</td>\n",
       "      <td>1</td>\n",
       "    </tr>\n",
       "    <tr>\n",
       "      <th>918</th>\n",
       "      <td>0</td>\n",
       "      <td>0</td>\n",
       "    </tr>\n",
       "    <tr>\n",
       "      <th>5028</th>\n",
       "      <td>1</td>\n",
       "      <td>1</td>\n",
       "    </tr>\n",
       "    <tr>\n",
       "      <th>1498</th>\n",
       "      <td>0</td>\n",
       "      <td>0</td>\n",
       "    </tr>\n",
       "    <tr>\n",
       "      <th>3491</th>\n",
       "      <td>0</td>\n",
       "      <td>0</td>\n",
       "    </tr>\n",
       "    <tr>\n",
       "      <th>4862</th>\n",
       "      <td>1</td>\n",
       "      <td>1</td>\n",
       "    </tr>\n",
       "    <tr>\n",
       "      <th>113</th>\n",
       "      <td>1</td>\n",
       "      <td>1</td>\n",
       "    </tr>\n",
       "    <tr>\n",
       "      <th>1564</th>\n",
       "      <td>0</td>\n",
       "      <td>0</td>\n",
       "    </tr>\n",
       "    <tr>\n",
       "      <th>2910</th>\n",
       "      <td>0</td>\n",
       "      <td>0</td>\n",
       "    </tr>\n",
       "    <tr>\n",
       "      <th>4684</th>\n",
       "      <td>0</td>\n",
       "      <td>0</td>\n",
       "    </tr>\n",
       "    <tr>\n",
       "      <th>1554</th>\n",
       "      <td>0</td>\n",
       "      <td>0</td>\n",
       "    </tr>\n",
       "    <tr>\n",
       "      <th>5516</th>\n",
       "      <td>0</td>\n",
       "      <td>0</td>\n",
       "    </tr>\n",
       "  </tbody>\n",
       "</table>\n",
       "</div>"
      ],
      "text/plain": [
       "      Actual_SVM_Result  Predicted_SVM_Result\n",
       "4732                  0                     0\n",
       "4952                  0                     0\n",
       "3724                  0                     0\n",
       "5261                  0                     0\n",
       "1274                  0                     0\n",
       "3390                  0                     0\n",
       "888                   0                     0\n",
       "5450                  0                     0\n",
       "2478                  0                     0\n",
       "4764                  0                     0\n",
       "1372                  0                     0\n",
       "943                   0                     0\n",
       "1640                  0                     0\n",
       "678                   0                     0\n",
       "4864                  0                     0\n",
       "1407                  0                     0\n",
       "309                   0                     0\n",
       "759                   0                     0\n",
       "269                   1                     1\n",
       "982                   1                     1\n",
       "989                   0                     0\n",
       "3037                  0                     0\n",
       "4929                  1                     1\n",
       "5466                  1                     0\n",
       "3372                  0                     0\n",
       "1346                  0                     0\n",
       "5510                  0                     0\n",
       "1745                  0                     0\n",
       "4726                  1                     1\n",
       "918                   0                     0\n",
       "5028                  1                     1\n",
       "1498                  0                     0\n",
       "3491                  0                     0\n",
       "4862                  1                     1\n",
       "113                   1                     1\n",
       "1564                  0                     0\n",
       "2910                  0                     0\n",
       "4684                  0                     0\n",
       "1554                  0                     0\n",
       "5516                  0                     0"
      ]
     },
     "execution_count": 35,
     "metadata": {},
     "output_type": "execute_result"
    }
   ],
   "source": [
    "Result_svm.head(40)"
   ]
  },
  {
   "cell_type": "code",
   "execution_count": 36,
   "id": "c88bf2d5",
   "metadata": {},
   "outputs": [
    {
     "name": "stdout",
     "output_type": "stream",
     "text": [
      "Confusion Matrix of Support Vector Machine Model is\n",
      " [[965   2]\n",
      " [ 18 130]]\n",
      "\n",
      "The Accuracy Score Performed by the Model 0.9820627802690582\n"
     ]
    }
   ],
   "source": [
    "cm_svm = confusion_matrix(y_test_svm, y_pred_svm)\n",
    "print('Confusion Matrix of Support Vector Machine Model is\\n', cm_svm)\n",
    "print()\n",
    "ac_svm = accuracy_score(y_test_svm, y_pred_svm)\n",
    "print('The Accuracy Score Performed by the Model', ac_svm)"
   ]
  },
  {
   "cell_type": "markdown",
   "id": "4e77a7ae",
   "metadata": {},
   "source": [
    "Support Vector Machine has given 2 False Positive and 18 False Negative.\n",
    "\n",
    "Accuracy Score of 98% higher than Naive Bayes Model."
   ]
  },
  {
   "cell_type": "code",
   "execution_count": 37,
   "id": "5ce10b22",
   "metadata": {},
   "outputs": [
    {
     "name": "stdout",
     "output_type": "stream",
     "text": [
      "              precision    recall  f1-score   support\n",
      "\n",
      "           0       0.98      1.00      0.99       967\n",
      "           1       0.98      0.88      0.93       148\n",
      "\n",
      "    accuracy                           0.98      1115\n",
      "   macro avg       0.98      0.94      0.96      1115\n",
      "weighted avg       0.98      0.98      0.98      1115\n",
      "\n"
     ]
    }
   ],
   "source": [
    "svm_clf_report = classification_report(y_test_svm, y_pred_svm)\n",
    "\n",
    "print(svm_clf_report)"
   ]
  },
  {
   "cell_type": "markdown",
   "id": "6943cca1",
   "metadata": {},
   "source": [
    "Look at the SVM Report almost all the results are close to 100%."
   ]
  },
  {
   "cell_type": "markdown",
   "id": "5149cc3d",
   "metadata": {},
   "source": [
    "# PLOTTING THE DIFFERENCE OF CONFUSION MATRIX BETWEEN Naive Bayes and SVM"
   ]
  },
  {
   "cell_type": "code",
   "execution_count": 38,
   "id": "96096dd4",
   "metadata": {},
   "outputs": [
    {
     "data": {
      "image/png": "[encoded data removed]",
      "text/plain": [
       "<Figure size 1200x400 with 2 Axes>"
      ]
     },
     "metadata": {},
     "output_type": "display_data"
    }
   ],
   "source": [
    "fig, axes = plt.subplots(nrows = 1, ncols = 2, figsize = (12, 4))\n",
    "\n",
    "# Naive Bayes Confusion Matrix\n",
    "sns.heatmap(cm_naive, annot = True, fmt = 'd', cmap = 'Paired_r', cbar = False, ax = axes[0])\n",
    "axes[0].set_title('Naive Bayes Confusion Matrix')\n",
    "\n",
    "# SVM Confusion Matrix\n",
    "sns.heatmap(cm_svm, annot = True, fmt = 'd', cmap = 'Paired_r', cbar = False, ax = axes[1])\n",
    "axes[1].set_title('SVM Confusion Matrix')\n",
    "\n",
    "plt.tight_layout()\n",
    "plt.show()"
   ]
  },
  {
   "cell_type": "markdown",
   "id": "c318c588",
   "metadata": {},
   "source": [
    "In both the Heatmaps, we can see the color diiference with different values\n",
    "\n",
    "(1)In SkyBlue color : It is the True Positive(TP) of Naive Bayes and SVM, TP = 967 & 965.\n",
    "\n",
    "(2)In Cream color : It is the True Negative(TN) of Naive Bayes and SVM, TN = 122 & 130.\n",
    "\n",
    "(3)In Brown Color : It is the False Positive and Negative (FP & FN) of Naive Bayes and SVM, FP & FN = (0, 26) & (2, 18)."
   ]
  },
  {
   "cell_type": "markdown",
   "id": "04fda08f",
   "metadata": {},
   "source": [
    "# PLOTTING THE ACCURACY SCORES OF NAIVE BAYES AND SVM MODEL"
   ]
  },
  {
   "cell_type": "code",
   "execution_count": 39,
   "id": "484462b2",
   "metadata": {},
   "outputs": [
    {
     "data": {
      "image/png": "[encoded data removed]",
      "text/plain": [
       "<Figure size 640x480 with 1 Axes>"
      ]
     },
     "metadata": {},
     "output_type": "display_data"
    }
   ],
   "source": [
    "models = ['Naive Bayes', 'SVM']\n",
    "accuracies = [ac_naive, ac_svm]\n",
    "\n",
    "plt.bar(models, accuracies)\n",
    "plt.ylabel('Accuracy Score')\n",
    "plt.title('Accuracy Comparison: Naive Bayes vs SVM')\n",
    "plt.ylim(0, 1.2)\n",
    "\n",
    "# Annotate the bars with their respective scores\n",
    "for i, acc in enumerate(accuracies):\n",
    "    plt.text(i, acc, f'{acc:.2f}', ha='center', va='bottom')\n",
    "\n",
    "plt.show()"
   ]
  }
 ],
 "metadata": {
  "kernelspec": {
   "display_name": "Python 3 (ipykernel)",
   "language": "python",
   "name": "python3"
  },
  "language_info": {
   "codemirror_mode": {
    "name": "ipython",
    "version": 3
   },
   "file_extension": ".py",
   "mimetype": "text/x-python",
   "name": "python",
   "nbconvert_exporter": "python",
   "pygments_lexer": "ipython3",
   "version": "3.9.13"
  }
 },
 "nbformat": 4,
 "nbformat_minor": 5
}
