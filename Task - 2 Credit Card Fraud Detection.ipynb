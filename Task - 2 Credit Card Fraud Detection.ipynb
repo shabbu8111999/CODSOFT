{
 "cells": [
  {
   "cell_type": "markdown",
   "id": "1cd06424",
   "metadata": {},
   "source": [
    "# TASK - 2 CREDIT CARD FRAUD DETECTION USING MACHINE LEARNING ALGORITHM (Decision Tree Classification) at CODSOFT Internship"
   ]
  },
  {
   "cell_type": "markdown",
   "id": "71371fa5",
   "metadata": {},
   "source": [
    "# IMPORTING NECESSARY LIBRARIES"
   ]
  },
  {
   "cell_type": "code",
   "execution_count": 1,
   "id": "a92de310",
   "metadata": {},
   "outputs": [],
   "source": [
    "import numpy as np\n",
    "import pandas as pd\n",
    "import matplotlib.pyplot as plt\n",
    "import seaborn as sns"
   ]
  },
  {
   "cell_type": "code",
   "execution_count": 2,
   "id": "b7174d81",
   "metadata": {},
   "outputs": [
    {
     "data": {
      "text/html": [
       "<div>\n",
       "<style scoped>\n",
       "    .dataframe tbody tr th:only-of-type {\n",
       "        vertical-align: middle;\n",
       "    }\n",
       "\n",
       "    .dataframe tbody tr th {\n",
       "        vertical-align: top;\n",
       "    }\n",
       "\n",
       "    .dataframe thead th {\n",
       "        text-align: right;\n",
       "    }\n",
       "</style>\n",
       "<table border=\"1\" class=\"dataframe\">\n",
       "  <thead>\n",
       "    <tr style=\"text-align: right;\">\n",
       "      <th></th>\n",
       "      <th>Unnamed: 0</th>\n",
       "      <th>trans_date_trans_time</th>\n",
       "      <th>cc_num</th>\n",
       "      <th>merchant</th>\n",
       "      <th>category</th>\n",
       "      <th>amt</th>\n",
       "      <th>first</th>\n",
       "      <th>last</th>\n",
       "      <th>gender</th>\n",
       "      <th>street</th>\n",
       "      <th>...</th>\n",
       "      <th>lat</th>\n",
       "      <th>long</th>\n",
       "      <th>city_pop</th>\n",
       "      <th>job</th>\n",
       "      <th>dob</th>\n",
       "      <th>trans_num</th>\n",
       "      <th>unix_time</th>\n",
       "      <th>merch_lat</th>\n",
       "      <th>merch_long</th>\n",
       "      <th>is_fraud</th>\n",
       "    </tr>\n",
       "  </thead>\n",
       "  <tbody>\n",
       "    <tr>\n",
       "      <th>0</th>\n",
       "      <td>0</td>\n",
       "      <td>2019-01-01 00:00:18</td>\n",
       "      <td>2703186189652095</td>\n",
       "      <td>fraud_Rippin, Kub and Mann</td>\n",
       "      <td>misc_net</td>\n",
       "      <td>4.97</td>\n",
       "      <td>Jennifer</td>\n",
       "      <td>Banks</td>\n",
       "      <td>F</td>\n",
       "      <td>561 Perry Cove</td>\n",
       "      <td>...</td>\n",
       "      <td>36.0788</td>\n",
       "      <td>-81.1781</td>\n",
       "      <td>3495</td>\n",
       "      <td>Psychologist, counselling</td>\n",
       "      <td>1988-03-09</td>\n",
       "      <td>0b242abb623afc578575680df30655b9</td>\n",
       "      <td>1325376018</td>\n",
       "      <td>36.011293</td>\n",
       "      <td>-82.048315</td>\n",
       "      <td>0</td>\n",
       "    </tr>\n",
       "    <tr>\n",
       "      <th>1</th>\n",
       "      <td>1</td>\n",
       "      <td>2019-01-01 00:00:44</td>\n",
       "      <td>630423337322</td>\n",
       "      <td>fraud_Heller, Gutmann and Zieme</td>\n",
       "      <td>grocery_pos</td>\n",
       "      <td>107.23</td>\n",
       "      <td>Stephanie</td>\n",
       "      <td>Gill</td>\n",
       "      <td>F</td>\n",
       "      <td>43039 Riley Greens Suite 393</td>\n",
       "      <td>...</td>\n",
       "      <td>48.8878</td>\n",
       "      <td>-118.2105</td>\n",
       "      <td>149</td>\n",
       "      <td>Special educational needs teacher</td>\n",
       "      <td>1978-06-21</td>\n",
       "      <td>1f76529f8574734946361c461b024d99</td>\n",
       "      <td>1325376044</td>\n",
       "      <td>49.159047</td>\n",
       "      <td>-118.186462</td>\n",
       "      <td>0</td>\n",
       "    </tr>\n",
       "    <tr>\n",
       "      <th>2</th>\n",
       "      <td>2</td>\n",
       "      <td>2019-01-01 00:00:51</td>\n",
       "      <td>38859492057661</td>\n",
       "      <td>fraud_Lind-Buckridge</td>\n",
       "      <td>entertainment</td>\n",
       "      <td>220.11</td>\n",
       "      <td>Edward</td>\n",
       "      <td>Sanchez</td>\n",
       "      <td>M</td>\n",
       "      <td>594 White Dale Suite 530</td>\n",
       "      <td>...</td>\n",
       "      <td>42.1808</td>\n",
       "      <td>-112.2620</td>\n",
       "      <td>4154</td>\n",
       "      <td>Nature conservation officer</td>\n",
       "      <td>1962-01-19</td>\n",
       "      <td>a1a22d70485983eac12b5b88dad1cf95</td>\n",
       "      <td>1325376051</td>\n",
       "      <td>43.150704</td>\n",
       "      <td>-112.154481</td>\n",
       "      <td>0</td>\n",
       "    </tr>\n",
       "    <tr>\n",
       "      <th>3</th>\n",
       "      <td>3</td>\n",
       "      <td>2019-01-01 00:01:16</td>\n",
       "      <td>3534093764340240</td>\n",
       "      <td>fraud_Kutch, Hermiston and Farrell</td>\n",
       "      <td>gas_transport</td>\n",
       "      <td>45.00</td>\n",
       "      <td>Jeremy</td>\n",
       "      <td>White</td>\n",
       "      <td>M</td>\n",
       "      <td>9443 Cynthia Court Apt. 038</td>\n",
       "      <td>...</td>\n",
       "      <td>46.2306</td>\n",
       "      <td>-112.1138</td>\n",
       "      <td>1939</td>\n",
       "      <td>Patent attorney</td>\n",
       "      <td>1967-01-12</td>\n",
       "      <td>6b849c168bdad6f867558c3793159a81</td>\n",
       "      <td>1325376076</td>\n",
       "      <td>47.034331</td>\n",
       "      <td>-112.561071</td>\n",
       "      <td>0</td>\n",
       "    </tr>\n",
       "    <tr>\n",
       "      <th>4</th>\n",
       "      <td>4</td>\n",
       "      <td>2019-01-01 00:03:06</td>\n",
       "      <td>375534208663984</td>\n",
       "      <td>fraud_Keeling-Crist</td>\n",
       "      <td>misc_pos</td>\n",
       "      <td>41.96</td>\n",
       "      <td>Tyler</td>\n",
       "      <td>Garcia</td>\n",
       "      <td>M</td>\n",
       "      <td>408 Bradley Rest</td>\n",
       "      <td>...</td>\n",
       "      <td>38.4207</td>\n",
       "      <td>-79.4629</td>\n",
       "      <td>99</td>\n",
       "      <td>Dance movement psychotherapist</td>\n",
       "      <td>1986-03-28</td>\n",
       "      <td>a41d7549acf90789359a9aa5346dcb46</td>\n",
       "      <td>1325376186</td>\n",
       "      <td>38.674999</td>\n",
       "      <td>-78.632459</td>\n",
       "      <td>0</td>\n",
       "    </tr>\n",
       "  </tbody>\n",
       "</table>\n",
       "<p>5 rows × 23 columns</p>\n",
       "</div>"
      ],
      "text/plain": [
       "   Unnamed: 0 trans_date_trans_time            cc_num  \\\n",
       "0           0   2019-01-01 00:00:18  2703186189652095   \n",
       "1           1   2019-01-01 00:00:44      630423337322   \n",
       "2           2   2019-01-01 00:00:51    38859492057661   \n",
       "3           3   2019-01-01 00:01:16  3534093764340240   \n",
       "4           4   2019-01-01 00:03:06   375534208663984   \n",
       "\n",
       "                             merchant       category     amt      first  \\\n",
       "0          fraud_Rippin, Kub and Mann       misc_net    4.97   Jennifer   \n",
       "1     fraud_Heller, Gutmann and Zieme    grocery_pos  107.23  Stephanie   \n",
       "2                fraud_Lind-Buckridge  entertainment  220.11     Edward   \n",
       "3  fraud_Kutch, Hermiston and Farrell  gas_transport   45.00     Jeremy   \n",
       "4                 fraud_Keeling-Crist       misc_pos   41.96      Tyler   \n",
       "\n",
       "      last gender                        street  ...      lat      long  \\\n",
       "0    Banks      F                561 Perry Cove  ...  36.0788  -81.1781   \n",
       "1     Gill      F  43039 Riley Greens Suite 393  ...  48.8878 -118.2105   \n",
       "2  Sanchez      M      594 White Dale Suite 530  ...  42.1808 -112.2620   \n",
       "3    White      M   9443 Cynthia Court Apt. 038  ...  46.2306 -112.1138   \n",
       "4   Garcia      M              408 Bradley Rest  ...  38.4207  -79.4629   \n",
       "\n",
       "   city_pop                                job         dob  \\\n",
       "0      3495          Psychologist, counselling  1988-03-09   \n",
       "1       149  Special educational needs teacher  1978-06-21   \n",
       "2      4154        Nature conservation officer  1962-01-19   \n",
       "3      1939                    Patent attorney  1967-01-12   \n",
       "4        99     Dance movement psychotherapist  1986-03-28   \n",
       "\n",
       "                          trans_num   unix_time  merch_lat  merch_long  \\\n",
       "0  0b242abb623afc578575680df30655b9  1325376018  36.011293  -82.048315   \n",
       "1  1f76529f8574734946361c461b024d99  1325376044  49.159047 -118.186462   \n",
       "2  a1a22d70485983eac12b5b88dad1cf95  1325376051  43.150704 -112.154481   \n",
       "3  6b849c168bdad6f867558c3793159a81  1325376076  47.034331 -112.561071   \n",
       "4  a41d7549acf90789359a9aa5346dcb46  1325376186  38.674999  -78.632459   \n",
       "\n",
       "   is_fraud  \n",
       "0         0  \n",
       "1         0  \n",
       "2         0  \n",
       "3         0  \n",
       "4         0  \n",
       "\n",
       "[5 rows x 23 columns]"
      ]
     },
     "execution_count": 2,
     "metadata": {},
     "output_type": "execute_result"
    }
   ],
   "source": [
    "df = pd.read_csv(r\"C:\\Users\\H P\\Desktop\\Internship Task\\SPAM EMAIL Dataset\\fraudTrain.csv\")\n",
    "df.head()"
   ]
  },
  {
   "cell_type": "code",
   "execution_count": 3,
   "id": "63c23fa0",
   "metadata": {},
   "outputs": [
    {
     "data": {
      "text/plain": [
       "(1296675, 23)"
      ]
     },
     "execution_count": 3,
     "metadata": {},
     "output_type": "execute_result"
    }
   ],
   "source": [
    "df.shape"
   ]
  },
  {
   "cell_type": "code",
   "execution_count": 4,
   "id": "8768dd67",
   "metadata": {},
   "outputs": [
    {
     "name": "stdout",
     "output_type": "stream",
     "text": [
      "<class 'pandas.core.frame.DataFrame'>\n",
      "RangeIndex: 1296675 entries, 0 to 1296674\n",
      "Data columns (total 23 columns):\n",
      " #   Column                 Non-Null Count    Dtype  \n",
      "---  ------                 --------------    -----  \n",
      " 0   Unnamed: 0             1296675 non-null  int64  \n",
      " 1   trans_date_trans_time  1296675 non-null  object \n",
      " 2   cc_num                 1296675 non-null  int64  \n",
      " 3   merchant               1296675 non-null  object \n",
      " 4   category               1296675 non-null  object \n",
      " 5   amt                    1296675 non-null  float64\n",
      " 6   first                  1296675 non-null  object \n",
      " 7   last                   1296675 non-null  object \n",
      " 8   gender                 1296675 non-null  object \n",
      " 9   street                 1296675 non-null  object \n",
      " 10  city                   1296675 non-null  object \n",
      " 11  state                  1296675 non-null  object \n",
      " 12  zip                    1296675 non-null  int64  \n",
      " 13  lat                    1296675 non-null  float64\n",
      " 14  long                   1296675 non-null  float64\n",
      " 15  city_pop               1296675 non-null  int64  \n",
      " 16  job                    1296675 non-null  object \n",
      " 17  dob                    1296675 non-null  object \n",
      " 18  trans_num              1296675 non-null  object \n",
      " 19  unix_time              1296675 non-null  int64  \n",
      " 20  merch_lat              1296675 non-null  float64\n",
      " 21  merch_long             1296675 non-null  float64\n",
      " 22  is_fraud               1296675 non-null  int64  \n",
      "dtypes: float64(5), int64(6), object(12)\n",
      "memory usage: 227.5+ MB\n"
     ]
    }
   ],
   "source": [
    "df.info()"
   ]
  },
  {
   "cell_type": "code",
   "execution_count": 5,
   "id": "11abb006",
   "metadata": {},
   "outputs": [
    {
     "data": {
      "text/plain": [
       "Unnamed: 0               0\n",
       "trans_date_trans_time    0\n",
       "cc_num                   0\n",
       "merchant                 0\n",
       "category                 0\n",
       "amt                      0\n",
       "first                    0\n",
       "last                     0\n",
       "gender                   0\n",
       "street                   0\n",
       "city                     0\n",
       "state                    0\n",
       "zip                      0\n",
       "lat                      0\n",
       "long                     0\n",
       "city_pop                 0\n",
       "job                      0\n",
       "dob                      0\n",
       "trans_num                0\n",
       "unix_time                0\n",
       "merch_lat                0\n",
       "merch_long               0\n",
       "is_fraud                 0\n",
       "dtype: int64"
      ]
     },
     "execution_count": 5,
     "metadata": {},
     "output_type": "execute_result"
    }
   ],
   "source": [
    "df.isnull().sum()"
   ]
  },
  {
   "cell_type": "code",
   "execution_count": 6,
   "id": "a736c792",
   "metadata": {},
   "outputs": [
    {
     "data": {
      "text/plain": [
       "0    1289169\n",
       "1       7506\n",
       "Name: is_fraud, dtype: int64"
      ]
     },
     "execution_count": 6,
     "metadata": {},
     "output_type": "execute_result"
    }
   ],
   "source": [
    "df['is_fraud'].value_counts()"
   ]
  },
  {
   "cell_type": "code",
   "execution_count": 7,
   "id": "6aa1bdb1",
   "metadata": {},
   "outputs": [
    {
     "data": {
      "text/plain": [
       "0069 Robin Brooks Apt. 695           3123\n",
       "864 Reynolds Plains                  3123\n",
       "8172 Robertson Parkways Suite 072    3119\n",
       "4664 Sanchez Common Suite 930        3117\n",
       "8030 Beck Motorway                   3113\n",
       "                                     ... \n",
       "7281 Joshua Mills Apt. 077              7\n",
       "3307 Ferguson Way                       7\n",
       "9599 Washington Field Suite 238         7\n",
       "3437 Ross Flat Apt. 592                 7\n",
       "27954 Hall Mill Suite 575               7\n",
       "Name: street, Length: 983, dtype: int64"
      ]
     },
     "execution_count": 7,
     "metadata": {},
     "output_type": "execute_result"
    }
   ],
   "source": [
    "df['street'].value_counts()"
   ]
  },
  {
   "cell_type": "code",
   "execution_count": 8,
   "id": "fe93d26f",
   "metadata": {},
   "outputs": [
    {
     "data": {
      "text/plain": [
       "0"
      ]
     },
     "execution_count": 8,
     "metadata": {},
     "output_type": "execute_result"
    }
   ],
   "source": [
    "df.duplicated().sum()"
   ]
  },
  {
   "cell_type": "markdown",
   "id": "d90925e4",
   "metadata": {},
   "source": [
    "# VISULAIZING OUR DATASETS"
   ]
  },
  {
   "cell_type": "code",
   "execution_count": 9,
   "id": "2d73f789",
   "metadata": {},
   "outputs": [
    {
     "data": {
      "image/png": "[encoded data removed]",
      "text/plain": [
       "<Figure size 1000x600 with 1 Axes>"
      ]
     },
     "metadata": {},
     "output_type": "display_data"
    }
   ],
   "source": [
    "plt.figure(figsize = (10, 6))\n",
    "sns.countplot(x = 'gender', data = df, palette = 'pastel')\n",
    "plt.xticks(rotation = 'horizontal')\n",
    "plt.xlabel('Gender')\n",
    "plt.ylabel('Count')\n",
    "plt.title('Count of Mail on the Basis of Gender')\n",
    "plt.grid()\n",
    "plt.show()"
   ]
  },
  {
   "cell_type": "code",
   "execution_count": 10,
   "id": "3be09f4f",
   "metadata": {},
   "outputs": [
    {
     "data": {
      "image/png": "[encoded data removed]",
      "text/plain": [
       "<Figure size 1500x600 with 1 Axes>"
      ]
     },
     "metadata": {},
     "output_type": "display_data"
    }
   ],
   "source": [
    "# Plotting a Pie plot on the basis of fraud and legit mail detection\n",
    "\n",
    "Fraud_Detc = df.is_fraud.value_counts()\n",
    "\n",
    "labels = ['Legit', 'Fraud']\n",
    "sizes = Fraud_Detc.values\n",
    "color = ['skyblue','red']\n",
    "plt.figure(figsize = (15, 6))\n",
    "plt.pie(sizes, colors = color, autopct = '%1.1f%%', startangle = 90)\n",
    "plt.axis('equal')\n",
    "plt.title('Clarifying Genuine vs Fraud', fontsize = 20)\n",
    "plt.legend(labels)\n",
    "plt.show()"
   ]
  },
  {
   "cell_type": "markdown",
   "id": "6432901b",
   "metadata": {},
   "source": [
    "# DATA PREPROCESSING"
   ]
  },
  {
   "cell_type": "code",
   "execution_count": 11,
   "id": "13e88dc4",
   "metadata": {},
   "outputs": [],
   "source": [
    "df.drop(['Unnamed: 0', 'trans_date_trans_time', 'merchant', 'first', 'last', 'street', 'city', 'job', 'dob', 'unix_time'], axis = 1, inplace = True)"
   ]
  },
  {
   "cell_type": "code",
   "execution_count": 12,
   "id": "6e2e7eb4",
   "metadata": {},
   "outputs": [
    {
     "data": {
      "text/html": [
       "<div>\n",
       "<style scoped>\n",
       "    .dataframe tbody tr th:only-of-type {\n",
       "        vertical-align: middle;\n",
       "    }\n",
       "\n",
       "    .dataframe tbody tr th {\n",
       "        vertical-align: top;\n",
       "    }\n",
       "\n",
       "    .dataframe thead th {\n",
       "        text-align: right;\n",
       "    }\n",
       "</style>\n",
       "<table border=\"1\" class=\"dataframe\">\n",
       "  <thead>\n",
       "    <tr style=\"text-align: right;\">\n",
       "      <th></th>\n",
       "      <th>cc_num</th>\n",
       "      <th>category</th>\n",
       "      <th>amt</th>\n",
       "      <th>gender</th>\n",
       "      <th>state</th>\n",
       "      <th>zip</th>\n",
       "      <th>lat</th>\n",
       "      <th>long</th>\n",
       "      <th>city_pop</th>\n",
       "      <th>trans_num</th>\n",
       "      <th>merch_lat</th>\n",
       "      <th>merch_long</th>\n",
       "      <th>is_fraud</th>\n",
       "    </tr>\n",
       "  </thead>\n",
       "  <tbody>\n",
       "    <tr>\n",
       "      <th>0</th>\n",
       "      <td>2703186189652095</td>\n",
       "      <td>misc_net</td>\n",
       "      <td>4.97</td>\n",
       "      <td>F</td>\n",
       "      <td>NC</td>\n",
       "      <td>28654</td>\n",
       "      <td>36.0788</td>\n",
       "      <td>-81.1781</td>\n",
       "      <td>3495</td>\n",
       "      <td>0b242abb623afc578575680df30655b9</td>\n",
       "      <td>36.011293</td>\n",
       "      <td>-82.048315</td>\n",
       "      <td>0</td>\n",
       "    </tr>\n",
       "    <tr>\n",
       "      <th>1</th>\n",
       "      <td>630423337322</td>\n",
       "      <td>grocery_pos</td>\n",
       "      <td>107.23</td>\n",
       "      <td>F</td>\n",
       "      <td>WA</td>\n",
       "      <td>99160</td>\n",
       "      <td>48.8878</td>\n",
       "      <td>-118.2105</td>\n",
       "      <td>149</td>\n",
       "      <td>1f76529f8574734946361c461b024d99</td>\n",
       "      <td>49.159047</td>\n",
       "      <td>-118.186462</td>\n",
       "      <td>0</td>\n",
       "    </tr>\n",
       "    <tr>\n",
       "      <th>2</th>\n",
       "      <td>38859492057661</td>\n",
       "      <td>entertainment</td>\n",
       "      <td>220.11</td>\n",
       "      <td>M</td>\n",
       "      <td>ID</td>\n",
       "      <td>83252</td>\n",
       "      <td>42.1808</td>\n",
       "      <td>-112.2620</td>\n",
       "      <td>4154</td>\n",
       "      <td>a1a22d70485983eac12b5b88dad1cf95</td>\n",
       "      <td>43.150704</td>\n",
       "      <td>-112.154481</td>\n",
       "      <td>0</td>\n",
       "    </tr>\n",
       "    <tr>\n",
       "      <th>3</th>\n",
       "      <td>3534093764340240</td>\n",
       "      <td>gas_transport</td>\n",
       "      <td>45.00</td>\n",
       "      <td>M</td>\n",
       "      <td>MT</td>\n",
       "      <td>59632</td>\n",
       "      <td>46.2306</td>\n",
       "      <td>-112.1138</td>\n",
       "      <td>1939</td>\n",
       "      <td>6b849c168bdad6f867558c3793159a81</td>\n",
       "      <td>47.034331</td>\n",
       "      <td>-112.561071</td>\n",
       "      <td>0</td>\n",
       "    </tr>\n",
       "    <tr>\n",
       "      <th>4</th>\n",
       "      <td>375534208663984</td>\n",
       "      <td>misc_pos</td>\n",
       "      <td>41.96</td>\n",
       "      <td>M</td>\n",
       "      <td>VA</td>\n",
       "      <td>24433</td>\n",
       "      <td>38.4207</td>\n",
       "      <td>-79.4629</td>\n",
       "      <td>99</td>\n",
       "      <td>a41d7549acf90789359a9aa5346dcb46</td>\n",
       "      <td>38.674999</td>\n",
       "      <td>-78.632459</td>\n",
       "      <td>0</td>\n",
       "    </tr>\n",
       "    <tr>\n",
       "      <th>5</th>\n",
       "      <td>4767265376804500</td>\n",
       "      <td>gas_transport</td>\n",
       "      <td>94.63</td>\n",
       "      <td>F</td>\n",
       "      <td>PA</td>\n",
       "      <td>18917</td>\n",
       "      <td>40.3750</td>\n",
       "      <td>-75.2045</td>\n",
       "      <td>2158</td>\n",
       "      <td>189a841a0a8ba03058526bcfe566aab5</td>\n",
       "      <td>40.653382</td>\n",
       "      <td>-76.152667</td>\n",
       "      <td>0</td>\n",
       "    </tr>\n",
       "    <tr>\n",
       "      <th>6</th>\n",
       "      <td>30074693890476</td>\n",
       "      <td>grocery_net</td>\n",
       "      <td>44.54</td>\n",
       "      <td>F</td>\n",
       "      <td>KS</td>\n",
       "      <td>67851</td>\n",
       "      <td>37.9931</td>\n",
       "      <td>-100.9893</td>\n",
       "      <td>2691</td>\n",
       "      <td>83ec1cc84142af6e2acf10c44949e720</td>\n",
       "      <td>37.162705</td>\n",
       "      <td>-100.153370</td>\n",
       "      <td>0</td>\n",
       "    </tr>\n",
       "    <tr>\n",
       "      <th>7</th>\n",
       "      <td>6011360759745864</td>\n",
       "      <td>gas_transport</td>\n",
       "      <td>71.65</td>\n",
       "      <td>M</td>\n",
       "      <td>VA</td>\n",
       "      <td>22824</td>\n",
       "      <td>38.8432</td>\n",
       "      <td>-78.6003</td>\n",
       "      <td>6018</td>\n",
       "      <td>6d294ed2cc447d2c71c7171a3d54967c</td>\n",
       "      <td>38.948089</td>\n",
       "      <td>-78.540296</td>\n",
       "      <td>0</td>\n",
       "    </tr>\n",
       "    <tr>\n",
       "      <th>8</th>\n",
       "      <td>4922710831011201</td>\n",
       "      <td>misc_pos</td>\n",
       "      <td>4.27</td>\n",
       "      <td>F</td>\n",
       "      <td>PA</td>\n",
       "      <td>15665</td>\n",
       "      <td>40.3359</td>\n",
       "      <td>-79.6607</td>\n",
       "      <td>1472</td>\n",
       "      <td>fc28024ce480f8ef21a32d64c93a29f5</td>\n",
       "      <td>40.351813</td>\n",
       "      <td>-79.958146</td>\n",
       "      <td>0</td>\n",
       "    </tr>\n",
       "    <tr>\n",
       "      <th>9</th>\n",
       "      <td>2720830304681674</td>\n",
       "      <td>grocery_pos</td>\n",
       "      <td>198.39</td>\n",
       "      <td>F</td>\n",
       "      <td>TN</td>\n",
       "      <td>37040</td>\n",
       "      <td>36.5220</td>\n",
       "      <td>-87.3490</td>\n",
       "      <td>151785</td>\n",
       "      <td>3b9014ea8fb80bd65de0b1463b00b00e</td>\n",
       "      <td>37.179198</td>\n",
       "      <td>-87.485381</td>\n",
       "      <td>0</td>\n",
       "    </tr>\n",
       "  </tbody>\n",
       "</table>\n",
       "</div>"
      ],
      "text/plain": [
       "             cc_num       category     amt gender state    zip      lat  \\\n",
       "0  2703186189652095       misc_net    4.97      F    NC  28654  36.0788   \n",
       "1      630423337322    grocery_pos  107.23      F    WA  99160  48.8878   \n",
       "2    38859492057661  entertainment  220.11      M    ID  83252  42.1808   \n",
       "3  3534093764340240  gas_transport   45.00      M    MT  59632  46.2306   \n",
       "4   375534208663984       misc_pos   41.96      M    VA  24433  38.4207   \n",
       "5  4767265376804500  gas_transport   94.63      F    PA  18917  40.3750   \n",
       "6    30074693890476    grocery_net   44.54      F    KS  67851  37.9931   \n",
       "7  6011360759745864  gas_transport   71.65      M    VA  22824  38.8432   \n",
       "8  4922710831011201       misc_pos    4.27      F    PA  15665  40.3359   \n",
       "9  2720830304681674    grocery_pos  198.39      F    TN  37040  36.5220   \n",
       "\n",
       "       long  city_pop                         trans_num  merch_lat  \\\n",
       "0  -81.1781      3495  0b242abb623afc578575680df30655b9  36.011293   \n",
       "1 -118.2105       149  1f76529f8574734946361c461b024d99  49.159047   \n",
       "2 -112.2620      4154  a1a22d70485983eac12b5b88dad1cf95  43.150704   \n",
       "3 -112.1138      1939  6b849c168bdad6f867558c3793159a81  47.034331   \n",
       "4  -79.4629        99  a41d7549acf90789359a9aa5346dcb46  38.674999   \n",
       "5  -75.2045      2158  189a841a0a8ba03058526bcfe566aab5  40.653382   \n",
       "6 -100.9893      2691  83ec1cc84142af6e2acf10c44949e720  37.162705   \n",
       "7  -78.6003      6018  6d294ed2cc447d2c71c7171a3d54967c  38.948089   \n",
       "8  -79.6607      1472  fc28024ce480f8ef21a32d64c93a29f5  40.351813   \n",
       "9  -87.3490    151785  3b9014ea8fb80bd65de0b1463b00b00e  37.179198   \n",
       "\n",
       "   merch_long  is_fraud  \n",
       "0  -82.048315         0  \n",
       "1 -118.186462         0  \n",
       "2 -112.154481         0  \n",
       "3 -112.561071         0  \n",
       "4  -78.632459         0  \n",
       "5  -76.152667         0  \n",
       "6 -100.153370         0  \n",
       "7  -78.540296         0  \n",
       "8  -79.958146         0  \n",
       "9  -87.485381         0  "
      ]
     },
     "execution_count": 12,
     "metadata": {},
     "output_type": "execute_result"
    }
   ],
   "source": [
    "df.head(10)"
   ]
  },
  {
   "cell_type": "code",
   "execution_count": 13,
   "id": "6f2d909d",
   "metadata": {},
   "outputs": [],
   "source": [
    "gender = {\n",
    "    'F' : 0,\n",
    "    'M' : 1\n",
    "}\n",
    "\n",
    "df['gender'] = df['gender'].map(gender)"
   ]
  },
  {
   "cell_type": "code",
   "execution_count": 14,
   "id": "32d2ca14",
   "metadata": {},
   "outputs": [
    {
     "data": {
      "text/html": [
       "<div>\n",
       "<style scoped>\n",
       "    .dataframe tbody tr th:only-of-type {\n",
       "        vertical-align: middle;\n",
       "    }\n",
       "\n",
       "    .dataframe tbody tr th {\n",
       "        vertical-align: top;\n",
       "    }\n",
       "\n",
       "    .dataframe thead th {\n",
       "        text-align: right;\n",
       "    }\n",
       "</style>\n",
       "<table border=\"1\" class=\"dataframe\">\n",
       "  <thead>\n",
       "    <tr style=\"text-align: right;\">\n",
       "      <th></th>\n",
       "      <th>cc_num</th>\n",
       "      <th>category</th>\n",
       "      <th>amt</th>\n",
       "      <th>gender</th>\n",
       "      <th>state</th>\n",
       "      <th>zip</th>\n",
       "      <th>lat</th>\n",
       "      <th>long</th>\n",
       "      <th>city_pop</th>\n",
       "      <th>trans_num</th>\n",
       "      <th>merch_lat</th>\n",
       "      <th>merch_long</th>\n",
       "      <th>is_fraud</th>\n",
       "    </tr>\n",
       "  </thead>\n",
       "  <tbody>\n",
       "    <tr>\n",
       "      <th>0</th>\n",
       "      <td>2703186189652095</td>\n",
       "      <td>misc_net</td>\n",
       "      <td>4.97</td>\n",
       "      <td>0</td>\n",
       "      <td>NC</td>\n",
       "      <td>28654</td>\n",
       "      <td>36.0788</td>\n",
       "      <td>-81.1781</td>\n",
       "      <td>3495</td>\n",
       "      <td>0b242abb623afc578575680df30655b9</td>\n",
       "      <td>36.011293</td>\n",
       "      <td>-82.048315</td>\n",
       "      <td>0</td>\n",
       "    </tr>\n",
       "    <tr>\n",
       "      <th>1</th>\n",
       "      <td>630423337322</td>\n",
       "      <td>grocery_pos</td>\n",
       "      <td>107.23</td>\n",
       "      <td>0</td>\n",
       "      <td>WA</td>\n",
       "      <td>99160</td>\n",
       "      <td>48.8878</td>\n",
       "      <td>-118.2105</td>\n",
       "      <td>149</td>\n",
       "      <td>1f76529f8574734946361c461b024d99</td>\n",
       "      <td>49.159047</td>\n",
       "      <td>-118.186462</td>\n",
       "      <td>0</td>\n",
       "    </tr>\n",
       "    <tr>\n",
       "      <th>2</th>\n",
       "      <td>38859492057661</td>\n",
       "      <td>entertainment</td>\n",
       "      <td>220.11</td>\n",
       "      <td>1</td>\n",
       "      <td>ID</td>\n",
       "      <td>83252</td>\n",
       "      <td>42.1808</td>\n",
       "      <td>-112.2620</td>\n",
       "      <td>4154</td>\n",
       "      <td>a1a22d70485983eac12b5b88dad1cf95</td>\n",
       "      <td>43.150704</td>\n",
       "      <td>-112.154481</td>\n",
       "      <td>0</td>\n",
       "    </tr>\n",
       "    <tr>\n",
       "      <th>3</th>\n",
       "      <td>3534093764340240</td>\n",
       "      <td>gas_transport</td>\n",
       "      <td>45.00</td>\n",
       "      <td>1</td>\n",
       "      <td>MT</td>\n",
       "      <td>59632</td>\n",
       "      <td>46.2306</td>\n",
       "      <td>-112.1138</td>\n",
       "      <td>1939</td>\n",
       "      <td>6b849c168bdad6f867558c3793159a81</td>\n",
       "      <td>47.034331</td>\n",
       "      <td>-112.561071</td>\n",
       "      <td>0</td>\n",
       "    </tr>\n",
       "    <tr>\n",
       "      <th>4</th>\n",
       "      <td>375534208663984</td>\n",
       "      <td>misc_pos</td>\n",
       "      <td>41.96</td>\n",
       "      <td>1</td>\n",
       "      <td>VA</td>\n",
       "      <td>24433</td>\n",
       "      <td>38.4207</td>\n",
       "      <td>-79.4629</td>\n",
       "      <td>99</td>\n",
       "      <td>a41d7549acf90789359a9aa5346dcb46</td>\n",
       "      <td>38.674999</td>\n",
       "      <td>-78.632459</td>\n",
       "      <td>0</td>\n",
       "    </tr>\n",
       "  </tbody>\n",
       "</table>\n",
       "</div>"
      ],
      "text/plain": [
       "             cc_num       category     amt  gender state    zip      lat  \\\n",
       "0  2703186189652095       misc_net    4.97       0    NC  28654  36.0788   \n",
       "1      630423337322    grocery_pos  107.23       0    WA  99160  48.8878   \n",
       "2    38859492057661  entertainment  220.11       1    ID  83252  42.1808   \n",
       "3  3534093764340240  gas_transport   45.00       1    MT  59632  46.2306   \n",
       "4   375534208663984       misc_pos   41.96       1    VA  24433  38.4207   \n",
       "\n",
       "       long  city_pop                         trans_num  merch_lat  \\\n",
       "0  -81.1781      3495  0b242abb623afc578575680df30655b9  36.011293   \n",
       "1 -118.2105       149  1f76529f8574734946361c461b024d99  49.159047   \n",
       "2 -112.2620      4154  a1a22d70485983eac12b5b88dad1cf95  43.150704   \n",
       "3 -112.1138      1939  6b849c168bdad6f867558c3793159a81  47.034331   \n",
       "4  -79.4629        99  a41d7549acf90789359a9aa5346dcb46  38.674999   \n",
       "\n",
       "   merch_long  is_fraud  \n",
       "0  -82.048315         0  \n",
       "1 -118.186462         0  \n",
       "2 -112.154481         0  \n",
       "3 -112.561071         0  \n",
       "4  -78.632459         0  "
      ]
     },
     "execution_count": 14,
     "metadata": {},
     "output_type": "execute_result"
    }
   ],
   "source": [
    "df.head()"
   ]
  },
  {
   "cell_type": "code",
   "execution_count": 15,
   "id": "0e8876e6",
   "metadata": {},
   "outputs": [
    {
     "data": {
      "text/plain": [
       "51"
      ]
     },
     "execution_count": 15,
     "metadata": {},
     "output_type": "execute_result"
    }
   ],
   "source": [
    "len(df['state'].value_counts())"
   ]
  },
  {
   "cell_type": "code",
   "execution_count": 16,
   "id": "5403b346",
   "metadata": {},
   "outputs": [
    {
     "data": {
      "text/plain": [
       "int64      5\n",
       "float64    5\n",
       "object     3\n",
       "dtype: int64"
      ]
     },
     "execution_count": 16,
     "metadata": {},
     "output_type": "execute_result"
    }
   ],
   "source": [
    "df.dtypes.value_counts()"
   ]
  },
  {
   "cell_type": "code",
   "execution_count": 17,
   "id": "b746fb08",
   "metadata": {},
   "outputs": [],
   "source": [
    "X = df.iloc[:, :-1].values\n",
    "y = df.iloc[:, -1].values"
   ]
  },
  {
   "cell_type": "code",
   "execution_count": 18,
   "id": "400c20f3",
   "metadata": {},
   "outputs": [
    {
     "name": "stdout",
     "output_type": "stream",
     "text": [
      "[[2703186189652095 'misc_net' 4.97 0 'NC' 28654 36.0788 -81.1781 3495\n",
      "  '0b242abb623afc578575680df30655b9' 36.011293 -82.048315]\n",
      " [630423337322 'grocery_pos' 107.23 0 'WA' 99160 48.8878 -118.2105 149\n",
      "  '1f76529f8574734946361c461b024d99' 49.159047 -118.186462]\n",
      " [38859492057661 'entertainment' 220.11 1 'ID' 83252 42.1808 -112.262\n",
      "  4154 'a1a22d70485983eac12b5b88dad1cf95' 43.150704 -112.154481]\n",
      " [3534093764340240 'gas_transport' 45.0 1 'MT' 59632 46.2306 -112.1138\n",
      "  1939 '6b849c168bdad6f867558c3793159a81' 47.034331 -112.561071]\n",
      " [375534208663984 'misc_pos' 41.96 1 'VA' 24433 38.4207 -79.4629 99\n",
      "  'a41d7549acf90789359a9aa5346dcb46' 38.674999 -78.632459]]\n"
     ]
    }
   ],
   "source": [
    "print(X[:5])"
   ]
  },
  {
   "cell_type": "code",
   "execution_count": 19,
   "id": "65b5fbbc",
   "metadata": {},
   "outputs": [
    {
     "name": "stdout",
     "output_type": "stream",
     "text": [
      "[0 0 0 0 0 0 0 0 0 0]\n"
     ]
    }
   ],
   "source": [
    "print(y[:10])"
   ]
  },
  {
   "cell_type": "markdown",
   "id": "b66b9e3d",
   "metadata": {},
   "source": [
    "# LET'S USE THE COLUMN TRANSFORMER AND ONEHOTENCODING TO CHANGE OBJECT INTO NUMERICALS"
   ]
  },
  {
   "cell_type": "code",
   "execution_count": 20,
   "id": "54e7def6",
   "metadata": {},
   "outputs": [],
   "source": [
    "from sklearn.preprocessing import LabelEncoder\n",
    "\n",
    "encode_1 = LabelEncoder()\n",
    "encode_2 = LabelEncoder()\n",
    "encode_3 = LabelEncoder()\n",
    "\n",
    "X[:, 1] = encode_1.fit_transform(X[:, 1])\n",
    "X[:, 4] = encode_2.fit_transform(X[:, 4])\n",
    "X[:, 9] = encode_3.fit_transform(X[:, 9])"
   ]
  },
  {
   "cell_type": "code",
   "execution_count": 21,
   "id": "24940e89",
   "metadata": {},
   "outputs": [
    {
     "name": "stdout",
     "output_type": "stream",
     "text": [
      "[8 4 0 2 9 2 3 2 9 4 4 11 4 4 12 11 8 12 1 4]\n"
     ]
    }
   ],
   "source": [
    "print(X[:, 1][:20])"
   ]
  },
  {
   "cell_type": "code",
   "execution_count": 22,
   "id": "2fd911da",
   "metadata": {},
   "outputs": [
    {
     "name": "stdout",
     "output_type": "stream",
     "text": [
      "[27 47 13 26 45 38 16 45 38 42 12 49 9 4 32 31 36 15 38 31]\n"
     ]
    }
   ],
   "source": [
    "print(X[:, 4][:20])"
   ]
  },
  {
   "cell_type": "code",
   "execution_count": 23,
   "id": "0356e6a8",
   "metadata": {},
   "outputs": [
    {
     "name": "stdout",
     "output_type": "stream",
     "text": [
      "[56438 159395 818703 544575 831111 124696 667812 552855 1277329 301740\n",
      " 1089826 306219 981946 330177 700762 945968 775490 1221760 673264 50301]\n"
     ]
    }
   ],
   "source": [
    "print(X[:, 9][:20])"
   ]
  },
  {
   "cell_type": "code",
   "execution_count": 24,
   "id": "27b05b1d",
   "metadata": {},
   "outputs": [
    {
     "name": "stdout",
     "output_type": "stream",
     "text": [
      "[[2703186189652095 8 4.97 0 27 28654 36.0788 -81.1781 3495 56438\n",
      "  36.011293 -82.048315]\n",
      " [630423337322 4 107.23 0 47 99160 48.8878 -118.2105 149 159395 49.159047\n",
      "  -118.186462]\n",
      " [38859492057661 0 220.11 1 13 83252 42.1808 -112.262 4154 818703\n",
      "  43.150704 -112.154481]\n",
      " [3534093764340240 2 45.0 1 26 59632 46.2306 -112.1138 1939 544575\n",
      "  47.034331 -112.561071]\n",
      " [375534208663984 9 41.96 1 45 24433 38.4207 -79.4629 99 831111 38.674999\n",
      "  -78.632459]\n",
      " [4767265376804500 2 94.63 0 38 18917 40.375 -75.2045 2158 124696\n",
      "  40.653382 -76.15266700000001]\n",
      " [30074693890476 3 44.54 0 16 67851 37.9931 -100.9893 2691 667812\n",
      "  37.162705 -100.15337]\n",
      " [6011360759745864 2 71.65 1 45 22824 38.8432 -78.6003 6018 552855\n",
      "  38.948089 -78.540296]\n",
      " [4922710831011201 9 4.27 0 38 15665 40.3359 -79.6607 1472 1277329\n",
      "  40.351813 -79.958146]\n",
      " [2720830304681674 4 198.39 0 42 37040 36.522 -87.34899999999999 151785\n",
      "  301740 37.179198 -87.485381]]\n"
     ]
    }
   ],
   "source": [
    "print(X[:10])"
   ]
  },
  {
   "cell_type": "markdown",
   "id": "7fa1e4f2",
   "metadata": {},
   "source": [
    "# SPLITTING THE DATASETS INTO TRAINING AND TESTING SET"
   ]
  },
  {
   "cell_type": "code",
   "execution_count": 25,
   "id": "3d386a86",
   "metadata": {},
   "outputs": [
    {
     "name": "stdout",
     "output_type": "stream",
     "text": [
      "The Models have Distributed Successfuly\n"
     ]
    }
   ],
   "source": [
    "from sklearn.model_selection import train_test_split\n",
    "X_train, X_test, y_train, y_test = train_test_split(X, y, test_size = 0.2, random_state = 42)\n",
    "print('The Models have Distributed Successfuly')"
   ]
  },
  {
   "cell_type": "code",
   "execution_count": 26,
   "id": "dd098fc5",
   "metadata": {},
   "outputs": [
    {
     "data": {
      "text/plain": [
       "1037340"
      ]
     },
     "execution_count": 26,
     "metadata": {},
     "output_type": "execute_result"
    }
   ],
   "source": [
    "len(X_train)"
   ]
  },
  {
   "cell_type": "code",
   "execution_count": 27,
   "id": "fcba8f1f",
   "metadata": {},
   "outputs": [
    {
     "data": {
      "text/plain": [
       "259335"
      ]
     },
     "execution_count": 27,
     "metadata": {},
     "output_type": "execute_result"
    }
   ],
   "source": [
    "len(X_test)"
   ]
  },
  {
   "cell_type": "markdown",
   "id": "f507cc4a",
   "metadata": {},
   "source": [
    "# FEATURE SCALING OUR TRAINING AND TESTING SET"
   ]
  },
  {
   "cell_type": "code",
   "execution_count": 28,
   "id": "51070c6f",
   "metadata": {},
   "outputs": [],
   "source": [
    "from sklearn.preprocessing import StandardScaler\n",
    "scaler = StandardScaler()\n",
    "X_train = scaler.fit_transform(X_train)\n",
    "X_test = scaler.transform(X_test)"
   ]
  },
  {
   "cell_type": "code",
   "execution_count": 29,
   "id": "e8c2bc0c",
   "metadata": {},
   "outputs": [
    {
     "name": "stdout",
     "output_type": "stream",
     "text": [
      "[[-0.31864488  1.73007093 -0.40300154 -0.90848332 -0.60678864  0.81570055\n",
      "  -1.55255482 -0.10208397 -0.29072061  1.56639896 -1.4380815  -0.08744271]\n",
      " [-0.31593235 -1.59218521 -0.3167202  -0.90848332  1.41748899  1.83874567\n",
      "   1.93108458 -2.335859   -0.29434207  1.14178325  1.72920458 -2.36236846]\n",
      " [ 2.80668465 -0.31439439 -0.21767984 -0.90848332  1.13827828  0.99906464\n",
      "  -1.21251266 -0.33760358 -0.21332794  1.69952033 -1.28135485 -0.37403537]\n",
      " [-0.3183857  -0.82551072 -0.17750786  1.10073568 -0.32757793  0.03050803\n",
      "   1.24558243  0.32058461 -0.28436565  0.39099238  1.33856741  0.27405687]\n",
      " [-0.3185108   0.19672194 -0.08257312 -0.90848332 -0.88599935  0.43260724\n",
      "   0.5909717   0.15745371  0.13065494  1.38463461  0.75057162  0.22594996]\n",
      " [-0.31364189 -0.56995255  0.077799    1.10073568 -1.23501273 -0.55119871\n",
      "  -2.28537919  0.58054404 -0.03284445 -0.95848653 -2.15423141  0.53524748]\n",
      " [ 3.43153182 -0.82551072 -0.24686137  1.10073568 -1.23501273 -0.58619782\n",
      "  -2.73499925  0.64281796 -0.1856451  -1.32325    -2.85332358  0.58711441]\n",
      " [-0.31864791  0.70783827  1.21663684 -0.90848332  0.7892649  -1.13231036\n",
      "   0.53104075  1.08954824 -0.29427912  1.70970328  0.59774697  1.05794821]\n",
      " [-0.31554489 -0.56995255  0.18208193  1.10073568 -0.74639399  0.64230434\n",
      "   0.13307715 -0.37942251 -0.28580695  0.71698581 -0.03364698 -0.45044379]\n",
      " [-0.31848551 -1.08106888 -0.15375838 -0.90848332  1.48729166  0.21149173\n",
      "   1.37084245  0.03601084 -0.26283566  1.13490642  1.17578374 -0.00840401]]\n"
     ]
    }
   ],
   "source": [
    "print(X_train[:10])"
   ]
  },
  {
   "cell_type": "code",
   "execution_count": 30,
   "id": "14d061b0",
   "metadata": {},
   "outputs": [
    {
     "name": "stdout",
     "output_type": "stream",
     "text": [
      "[[-0.31864798  0.70783827  0.7844722   1.10073568  0.7892649  -1.23165426\n",
      "   0.40922842  0.78300699 -0.29140315  1.7323971   0.3684825   0.82516323]\n",
      " [-0.31862521 -0.31439439 -0.11364956 -0.90848332  0.71946222  1.81040421\n",
      "   0.84456514 -2.48822067 -0.29390472  1.09226631  0.82610165 -2.42755471]\n",
      " [-0.3150879   1.47451276 -0.40287521 -0.90848332  0.7892649  -1.24046913\n",
      "   0.28083591  0.75895256 -0.29401405  0.10653792  0.37918829  0.82275279]\n",
      " [-0.31596196 -0.05883622 -0.39782213  1.10073568  0.51005419 -1.2785553\n",
      "   0.8707677   0.93906991 -0.25911479  0.38222863  1.0234906   0.99390637]\n",
      " [-0.31405387 -1.08106888 -0.03804285 -0.90848332  1.62689702  1.24301697\n",
      "   0.61155942 -1.01619586 -0.29251974 -1.38714869  0.48980268 -1.00764673]\n",
      " [ 3.39244468  1.47451276  0.37574121  1.10073568  1.34768631 -1.60477971\n",
      "   1.10666949  1.28982244 -0.29140978 -1.27225239  1.12229526  1.26988714]\n",
      " [-0.31862517 -0.56995255  0.25762547  1.10073568 -0.32757793 -0.02226958\n",
      "   0.75630391  0.51940449  1.93637784 -0.06436728  0.71095962  0.50357724]\n",
      " [-0.31848553  1.47451276 -0.39087415  1.10073568 -0.60678864  0.83597103\n",
      "  -1.09994018 -0.17193489 -0.28879888  0.94373688 -1.27564382 -0.11306258]\n",
      " [-0.3136056   1.47451276 -0.42921439  1.10073568  1.13827828  1.02524888\n",
      "  -0.95807207 -0.61336418 -0.28694673  0.23272634 -1.10054338 -0.64444738]\n",
      " [-0.31864475 -1.33662705  0.11171779 -0.90848332 -1.79343414 -0.44378381\n",
      "  -1.20526263  0.37397264 -0.09667236  1.63330442 -1.24656071  0.30986935]]\n"
     ]
    }
   ],
   "source": [
    "print(X_test[:10])"
   ]
  },
  {
   "cell_type": "markdown",
   "id": "1701b6a1",
   "metadata": {},
   "source": [
    "# FITTING THE MODEL OF TRAINING SET IN DECISION TREE CLASSIFICATION"
   ]
  },
  {
   "cell_type": "code",
   "execution_count": 71,
   "id": "8a6db73c",
   "metadata": {},
   "outputs": [
    {
     "name": "stdout",
     "output_type": "stream",
     "text": [
      "Model Has Been Trained Successfuly.\n",
      " DecisionTreeClassifier(criterion='entropy', max_depth=20, max_leaf_nodes=10,\n",
      "                       random_state=0)\n"
     ]
    }
   ],
   "source": [
    "from sklearn.tree import DecisionTreeClassifier, plot_tree\n",
    "tree_clf = DecisionTreeClassifier(criterion = 'entropy', random_state = 0, max_depth = 20, max_leaf_nodes = 10)\n",
    "print('Model Has Been Trained Successfuly.\\n', tree_clf.fit(X_train, y_train))"
   ]
  },
  {
   "cell_type": "code",
   "execution_count": 72,
   "id": "1dc2c289",
   "metadata": {},
   "outputs": [
    {
     "name": "stdout",
     "output_type": "stream",
     "text": [
      "The Model Prediction of first Label: [0]\n"
     ]
    }
   ],
   "source": [
    "print('The Model Prediction of first Label:', tree_clf.predict(scaler.transform([[2703186189652095, 8, 4.97, 0, 27, 28654, 36.0788, -81.1781, 3495, 56438, 36.011293, -82.048315]])))"
   ]
  },
  {
   "cell_type": "markdown",
   "id": "6b22b540",
   "metadata": {},
   "source": [
    "# MERGING THE ACTUAL AND PREDICTED VALUE TOGETHER"
   ]
  },
  {
   "cell_type": "code",
   "execution_count": 73,
   "id": "5b0a41f5",
   "metadata": {},
   "outputs": [
    {
     "name": "stdout",
     "output_type": "stream",
     "text": [
      "[[0 0]\n",
      " [0 0]\n",
      " [0 0]\n",
      " [0 0]\n",
      " [0 0]\n",
      " [0 0]\n",
      " [0 0]\n",
      " [0 0]\n",
      " [0 0]\n",
      " [0 0]\n",
      " [0 0]\n",
      " [0 0]\n",
      " [0 0]\n",
      " [0 0]\n",
      " [0 0]\n",
      " [0 0]\n",
      " [0 0]\n",
      " [0 0]\n",
      " [0 0]\n",
      " [0 0]\n",
      " [0 0]\n",
      " [0 0]\n",
      " [0 0]\n",
      " [0 0]\n",
      " [0 0]\n",
      " [0 0]\n",
      " [0 0]\n",
      " [0 0]\n",
      " [0 0]\n",
      " [0 0]\n",
      " [0 0]\n",
      " [0 0]\n",
      " [0 0]\n",
      " [0 0]\n",
      " [0 0]\n",
      " [0 0]\n",
      " [0 0]\n",
      " [0 0]\n",
      " [0 0]\n",
      " [0 0]]\n"
     ]
    }
   ],
   "source": [
    "y_pred = tree_clf.predict(X_test)\n",
    "print(np.concatenate((y_pred.reshape(len(y_pred), 1), y_test.reshape(len(y_test), 1)), 1)[:40])"
   ]
  },
  {
   "cell_type": "markdown",
   "id": "40d485e8",
   "metadata": {},
   "source": [
    "# BUILDING THE MODEL ACCURACY SCORE AND PREDICTION RESULT VIA CONFUSION MATRIX"
   ]
  },
  {
   "cell_type": "code",
   "execution_count": 74,
   "id": "40de02d8",
   "metadata": {},
   "outputs": [
    {
     "name": "stdout",
     "output_type": "stream",
     "text": [
      "Confusion Matrix on the Predicted Test Result is\n",
      " [[257805     10]\n",
      " [  1171    349]]\n",
      "\n",
      "Model Accuracy Score is\n",
      " 0.9954460446912294\n"
     ]
    }
   ],
   "source": [
    "from sklearn.metrics import confusion_matrix, accuracy_score, classification_report\n",
    "\n",
    "cm = confusion_matrix(y_test, y_pred)\n",
    "print('Confusion Matrix on the Predicted Test Result is\\n', cm)\n",
    "print()\n",
    "print('Model Accuracy Score is\\n', accuracy_score(y_test, y_pred))"
   ]
  },
  {
   "cell_type": "markdown",
   "id": "1bd8dee5",
   "metadata": {},
   "source": [
    "By taking test_size of 0.2, The accuracy got was 99%."
   ]
  },
  {
   "cell_type": "code",
   "execution_count": 75,
   "id": "38fb24c0",
   "metadata": {},
   "outputs": [
    {
     "name": "stdout",
     "output_type": "stream",
     "text": [
      "The Classification Reports of the Model Performed is \n",
      "                precision    recall  f1-score   support\n",
      "\n",
      "           0       1.00      1.00      1.00    257815\n",
      "           1       0.97      0.23      0.37      1520\n",
      "\n",
      "    accuracy                           1.00    259335\n",
      "   macro avg       0.98      0.61      0.68    259335\n",
      "weighted avg       1.00      1.00      0.99    259335\n",
      "\n"
     ]
    }
   ],
   "source": [
    "report = classification_report(y_test, y_pred)\n",
    "\n",
    "print('The Classification Reports of the Model Performed is \\n ', report)"
   ]
  },
  {
   "cell_type": "markdown",
   "id": "9d58e587",
   "metadata": {},
   "source": [
    "# PLOTTING DECISION TREE CLASSIFICATION GRAPH"
   ]
  },
  {
   "cell_type": "code",
   "execution_count": 76,
   "id": "751fedb9",
   "metadata": {},
   "outputs": [
    {
     "data": {
      "image/png": "[encoded data removed]",
      "text/plain": [
       "<Figure size 1000x600 with 1 Axes>"
      ]
     },
     "metadata": {},
     "output_type": "display_data"
    }
   ],
   "source": [
    "plt.figure(figsize=(10, 6))\n",
    "plot_tree(tree_clf, filled = True, feature_names = X.columns, class_names = ['Legitimate', 'Fraudulent'])\n",
    "plt.show()"
   ]
  }
 ],
 "metadata": {
  "kernelspec": {
   "display_name": "Python 3 (ipykernel)",
   "language": "python",
   "name": "python3"
  },
  "language_info": {
   "codemirror_mode": {
    "name": "ipython",
    "version": 3
   },
   "file_extension": ".py",
   "mimetype": "text/x-python",
   "name": "python",
   "nbconvert_exporter": "python",
   "pygments_lexer": "ipython3",
   "version": "3.9.13"
  }
 },
 "nbformat": 4,
 "nbformat_minor": 5
}
